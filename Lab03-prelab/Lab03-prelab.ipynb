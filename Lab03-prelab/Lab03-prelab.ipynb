{
 "cells": [
  {
   "cell_type": "markdown",
   "id": "518183bc-a091-4568-a016-ae4ac3f76c8c",
   "metadata": {
    "id": "518183bc-a091-4568-a016-ae4ac3f76c8c"
   },
   "source": [
    "# Lab 03 Prelab, Part 2"
   ]
  },
  {
   "cell_type": "markdown",
   "id": "c09706c7-5926-4907-adfa-c9067bc9a00d",
   "metadata": {},
   "source": [
    "Please complete Part 1 of the prelab on Canvas before working through this notebook."
   ]
  },
  {
   "cell_type": "code",
   "execution_count": null,
   "id": "4e142931-ccce-4ee2-a592-68019af67fd5",
   "metadata": {
    "id": "4e142931-ccce-4ee2-a592-68019af67fd5"
   },
   "outputs": [],
   "source": [
    "# After executing this cell successfully once, please comment out the next two lines:\n",
    "!wget -N --quiet https://www.phas.ubc.ca/~michal/data_entry.py # download data_entry.py\n",
    "%run data_entry.py  # install it.\n",
    "\n",
    "# but leave these lines alone:\n",
    "import numpy as np\n",
    "import data_entry"
   ]
  },
  {
   "cell_type": "markdown",
   "id": "16466045-05c1-4ae6-8e17-2c1d66186f1a",
   "metadata": {
    "id": "16466045-05c1-4ae6-8e17-2c1d66186f1a",
    "tags": []
   },
   "source": [
    "## Welcome to the Lab 03 Prelab, Part 2: notebook and initial data collection"
   ]
  },
  {
   "cell_type": "markdown",
   "id": "732687db-903c-4002-84b8-a9af6bfe6673",
   "metadata": {
    "id": "732687db-903c-4002-84b8-a9af6bfe6673"
   },
   "source": [
    "This document walks you through how to calculate the quantities average, standard deviation and (standard) uncertainty of the mean in a python notebook. \n",
    "\n",
    "Both the ideas and the skills discussed in this prelab assignment are extremely important to understand in order to be successful in Lab 03 and later labs. \n",
    "\n",
    "This prelab activity starts by using a hypothetical example data set to guide you through the use of the relevant Python functions. The work done with the hypothetical data set will not be handed in directly, and instead will set you up to perform these same calculations on some real data, also collected in this prelab. "
   ]
  },
  {
   "cell_type": "markdown",
   "id": "42e79d28-fc94-43fd-9703-59d9cf639822",
   "metadata": {
    "id": "42e79d28-fc94-43fd-9703-59d9cf639822",
    "tags": []
   },
   "source": [
    "## Summary of Part 1 of the prelab"
   ]
  },
  {
   "cell_type": "markdown",
   "id": "82c3f210-fbae-487a-a7d3-407925419bba",
   "metadata": {
    "id": "82c3f210-fbae-487a-a7d3-407925419bba"
   },
   "source": [
    "Part 1 of this week’s prelab was found in the Prelab section of Canvas in the Lab 03 module. It was a guided lesson on statistics concepts to prepare you for Part 2 of the prelab. Here is a summary of the statistics concepts covered or reviewed in part 1 of this prelab:\n",
    "\n",
    "a. Average is given by\n",
    "     \n",
    "$$x_{ave} = \\frac{1}{N} \\sum_{i=1}^N x_i$$\n",
    "\n",
    "b. For variables that follow a Gaussian distribution, approximately 68\\% of the values lie between the range $ x_{ave} - \\sigma$ to $x_{ave} + \\sigma$ **(68% CI)**\n",
    "\n",
    "c. Approximately 95% of the values will lie within the range $ x_{ave} - 2\\sigma$ to $x_{ave} + 2\\sigma$ **(95% CI)**\n",
    "\n",
    "d. Standard deviation is given by \n",
    "\n",
    "$$ \\sigma = \\frac{95\\% \\,\\mathrm{CI}}{4} = \\sqrt{\\frac{1}{N-1}\\sum_{i=1}^N \\left(x_i - x_{ave}\\right)^2} $$\n",
    "\n",
    "e. We use the standard deviation as an indicator of the uncertainty (or the variability) in a single measurement and it does not depend on the number of measurements taken. \n",
    "\n",
    "f. Uncertainty of the mean (often called standard error of the mean) is given by\n",
    "\n",
    "$$\\sigma_m = u[x_{ave}] = \\frac{\\sigma}{\\sqrt{N}}$$.\n",
    "\n",
    "We use uncertainty of the mean as an indicator of the uncertainty (or the variability) in the average of multiple measurements and it does improve as we increase the number of measurements."
   ]
  },
  {
   "cell_type": "markdown",
   "id": "63aa2504-672f-4e5c-bd6c-b44997bca23c",
   "metadata": {
    "id": "63aa2504-672f-4e5c-bd6c-b44997bca23c",
    "tags": []
   },
   "source": [
    "## Developing your Python skills"
   ]
  },
  {
   "cell_type": "markdown",
   "id": "c45b9c11-a0be-4126-b601-90f47a27987c",
   "metadata": {
    "id": "c45b9c11-a0be-4126-b601-90f47a27987c"
   },
   "source": [
    "Use the data_entry library in the code block below to load in a blank spreadsheet for the purposes of this prelab (consult Lab 2 for help if you forget how to do this). Title the spreadsheet 'lab03_prelab_data1' and the first column variable as 'd' with units of 'mm'."
   ]
  },
  {
   "cell_type": "code",
   "execution_count": null,
   "id": "29d83f88-0b2b-4c91-9286-2858b340b165",
   "metadata": {
    "id": "29d83f88-0b2b-4c91-9286-2858b340b165"
   },
   "outputs": [],
   "source": [
    "de=data_entry.sheet('lab03_prelab_data1')"
   ]
  },
  {
   "cell_type": "markdown",
   "id": "cda27066-c8fd-4a69-8c41-274090093419",
   "metadata": {
    "id": "cda27066-c8fd-4a69-8c41-274090093419"
   },
   "source": [
    "Below is a table of some hypothetical data. Add enough rows to your spreadsheet to hold 25 data points. (Recall that Python indexing starts at 0!) If you highlight the table below and use the copy command (Ctrl + C on a PC, Command + C on a Mac), you can then select the first data row of your spreadsheet and **repeatedly** press the paste command (Ctrl + V on a PC, Command + V on a Mac) to paste the data into your spreadsheet - paste works a little strangely here, each \"paste\" will paste in one more value, so you'll need to press it 25 times."
   ]
  },
  {
   "cell_type": "markdown",
   "id": "7ca6d482-4ec1-4ee4-b7b3-746a6ba85b8e",
   "metadata": {
    "id": "7ca6d482-4ec1-4ee4-b7b3-746a6ba85b8e",
    "jp-MarkdownHeadingCollapsed": true,
    "tags": []
   },
   "source": [
    "### Hypothetical data"
   ]
  },
  {
   "cell_type": "markdown",
   "id": "8e82326f-8609-4a64-afe5-16af323fe8cf",
   "metadata": {
    "id": "8e82326f-8609-4a64-afe5-16af323fe8cf"
   },
   "source": [
    "| d (mm) |\n",
    "| ------ |\n",
    " 439.3 \n",
    "431.6\n",
    "434.6\n",
    "433.3\n",
    "439.3\n",
    "442.6\n",
    "428.6\n",
    "441.6\n",
    "431.2\n",
    "427.6\n",
    "433.2\n",
    "441.3\n",
    "436\n",
    "437.6\n",
    "434.7\n",
    "433.2\n",
    "433.1\n",
    "431.3\n",
    "436\n",
    "432.9\n",
    "436.5\n",
    "437.2\n",
    "435.7\n",
    "432.6\n",
    "434.7"
   ]
  },
  {
   "cell_type": "markdown",
   "id": "67a09e76-6eb5-443a-a5e8-9880a08e341f",
   "metadata": {
    "id": "67a09e76-6eb5-443a-a5e8-9880a08e341f",
    "tags": []
   },
   "source": [
    "## Calculating average and standard deviation using Python"
   ]
  },
  {
   "cell_type": "markdown",
   "id": "fa3efb9c-d2d0-450c-9e39-2b802f42293a",
   "metadata": {
    "id": "fa3efb9c-d2d0-450c-9e39-2b802f42293a"
   },
   "source": [
    "Press the 'Generate Vectors' button below your spreadsheet to transfer the data into the Python environment. Both average and standard deviation can be calculated the \"long way\", but first we will be using python functions as a shortcut to calculate these two quantities using the 'np.mean()' and 'np.std()' functions. These functions require you to specify an *argument*, that is a vector of data over which the function with calculate the average or the standard deviation now. \n",
    "\n",
    "If you correctly titled the single column of data 'd', then the vector 'dVec' should now be in the Python environment. The code block below will calculate and print out both the average and standard deviation of the data in 'dVec'."
   ]
  },
  {
   "cell_type": "code",
   "execution_count": null,
   "id": "f6164c32-3e04-452e-8ee3-5f492278006e",
   "metadata": {
    "id": "f6164c32-3e04-452e-8ee3-5f492278006e"
   },
   "outputs": [],
   "source": [
    "dAvg = np.mean(dVec)\n",
    "print('Average of data = ', dAvg)\n",
    "\n",
    "dStd = np.std(dVec, ddof=1)\n",
    "print('Standard deviation of data = ', dStd)"
   ]
  },
  {
   "cell_type": "markdown",
   "id": "41729d00-9c41-4adb-a282-f430838b8ab6",
   "metadata": {
    "id": "41729d00-9c41-4adb-a282-f430838b8ab6"
   },
   "source": [
    "If you copied the data over properly, you should find that the average is 435.028 mm, which is consistent with our earlier estimate of 435 mm from the histogram. The standard deviation should be 3.8362872676586677 mm (3.8 mm if we were to round it to 2 significant figures when we report it). As a check, this is also consistent with our estimate of 4 mm using the 95% Confidence Interval with the histogram earlier\n",
    "\n",
    "Note that in 'np.std()' we are supplying an additional argument, 'ddof=1'; this additional argument is needed because the np.std() function uses a general formula in its calculation - it can be used for a number of related calculations. In particular the formula it uses is:\n",
    "\n",
    "$$ \\textrm{np.std()} = \\sqrt{\\frac{1}{N-\\textrm{ddof}}\\sum_{i=1}^N \\left(x_i - x_{ave}\\right)^2} $$\n",
    "\n",
    "We want:\n",
    "$$ \\sigma = \\sqrt{\\frac{1}{N-1}\\sum_{i=1}^N \\left(x_i - x_{ave}\\right)^2} $$\n",
    "So the 1 in ddof = 1 corresponds to the 1 in the $N-1$ in the denominator of the definition of the standard deviation. \n",
    "\n",
    "What happens to $\\sigma$ if $N=1$?\n",
    "\n",
    "> If you are interested, ddof is an abbreviation for 'delta degrees of freedom.'  We use one 'degree of freedom' from our dataset when we calculate the average. Since the average is used in the calculation of standard deviation, we control for this in the formula for standard deviation by dividing the squared differences between each data point in the mean by $N-1$ instead of $N$. \n",
    "\n",
    "If you want to control the number of significant figures displayed you can modify the print statement as follows:"
   ]
  },
  {
   "cell_type": "code",
   "execution_count": null,
   "id": "6b65f649-4472-4c58-a275-5bc9014f4d61",
   "metadata": {
    "id": "6b65f649-4472-4c58-a275-5bc9014f4d61"
   },
   "outputs": [],
   "source": [
    "print('Standard deviation to 2 sig figs = {:.2}'.format(dStd))"
   ]
  },
  {
   "cell_type": "markdown",
   "id": "92e45ae6-d33c-4a1e-b374-16c89d4aa906",
   "metadata": {
    "id": "92e45ae6-d33c-4a1e-b374-16c89d4aa906"
   },
   "source": [
    "Within the curly braces, the ':.2' tells the print function to round the variable specified to 'format()' - in this case 'dStd', the standard deviation of 'd' - to two digits. "
   ]
  },
  {
   "cell_type": "markdown",
   "id": "2804849a-adc3-491d-bdb2-68b4eac73815",
   "metadata": {
    "id": "2804849a-adc3-491d-bdb2-68b4eac73815"
   },
   "source": [
    "Let's step back for a moment and think about what the standard deviation represents. Twenty-five measurements were made using the same experimental procedure, so this standard deviation is a method we can use to represent the variability in our measurements. In the language we are using in the lab, this standard deviation is the single-measurement standard uncertainty of the distance, $u[d_1]$. What does this mean? It means that if we wanted to report the value and uncertainty for one of our measurements of $d$, 434.7 mm for example, we would report it as:\n",
    "\n",
    "$$ d_1 = (434.7 \\pm 3.8) \\, mm$$"
   ]
  },
  {
   "cell_type": "markdown",
   "id": "640021e0-b9d4-48fe-a986-e153af09578e",
   "metadata": {
    "id": "640021e0-b9d4-48fe-a986-e153af09578e"
   },
   "source": [
    "The subscript '1' is being used here to emphasize that we are talking about a single measurement and not the average. We will look at the uncertainty in the average later.\n",
    "\n",
    "The variability (the standard deviation) in the 25 measurements that we made describes us how confident we should be in any one of the individual values. Instead of estimating our uncertainty from a single measurement as we did with the height of the spring in the first two labs, the use of repeated measurements can allow us to measure the variability in our measurements in a more rigorous way."
   ]
  },
  {
   "cell_type": "markdown",
   "id": "9e8fa3d1-d557-4331-9ecd-5a64049da58f",
   "metadata": {
    "id": "9e8fa3d1-d557-4331-9ecd-5a64049da58f",
    "tags": []
   },
   "source": [
    "## Calculating average and standard deviation the \"long way\" using Python"
   ]
  },
  {
   "cell_type": "markdown",
   "id": "63ea1d14-5d74-4555-b190-361d253e79ab",
   "metadata": {
    "id": "63ea1d14-5d74-4555-b190-361d253e79ab"
   },
   "source": [
    "*In the lab, you do not need to perform your calculations the \"long way\", but we want you to learn how to do it this way as part of the prelab for the following reasons:*\n",
    "\n",
    "1. Many of the calculations we perform later in this course will not correspond to built-in functions, so it is useful to learn how to do more complicated calculations.\n",
    "2. Breaking down complicated calculations into a several lines of code in doing these “long way” calculations is the strategy that we will be encouraging you to use for most of your coding work going forward in this course.\n",
    "3. We will also be giving you a few tips and skills here that you will find generally useful.\n",
    "4. It is often easier to find problems or errors in your calculations if you can look at intermediate values."
   ]
  },
  {
   "cell_type": "markdown",
   "id": "23f88bb4-9285-4b68-8502-cdd8cfb4c94a",
   "metadata": {
    "id": "23f88bb4-9285-4b68-8502-cdd8cfb4c94a",
    "tags": []
   },
   "source": [
    "### Calculating average the \"long way\""
   ]
  },
  {
   "cell_type": "markdown",
   "id": "1a1f1b0c-df39-436e-83da-6e09059f451e",
   "metadata": {
    "id": "1a1f1b0c-df39-436e-83da-6e09059f451e"
   },
   "source": [
    "Let's revisit our equation for calculating average,\n",
    "\n",
    "$$x_{ave} = \\frac{1}{N} \\sum_{i=1}^N x_i$$\n",
    "\n",
    "We will break the operation of calculating the average into steps. We will first sum up all the $x_i$ values, then count how many values there are ($N$), and finally calculate the quotient.\n",
    "\n",
    "Similar to 'np.mean()' and 'np.std()', there is a NumPy function for calculating a sum, namely 'np.sum()'. Use this function in the code cell below to define a variable 'dSum' which is the result of the sum over 'dVec'."
   ]
  },
  {
   "cell_type": "code",
   "execution_count": null,
   "id": "16ec6a6e-e56e-4202-96ef-96af4b426b9c",
   "metadata": {
    "id": "16ec6a6e-e56e-4202-96ef-96af4b426b9c"
   },
   "outputs": [],
   "source": []
  },
  {
   "cell_type": "markdown",
   "id": "4b9dad83-ca29-4ae6-a0ad-8786974c0fa0",
   "metadata": {
    "id": "4b9dad83-ca29-4ae6-a0ad-8786974c0fa0"
   },
   "source": [
    "Next, the built-in Python function 'len()' calculate how \"long\" a vector is, i.e. it counts up the number of elements within the supplied variable. For instance, if you run the code cell below you can see 'len()' returns '3' when we supply it with the three-element vector 'foo':"
   ]
  },
  {
   "cell_type": "code",
   "execution_count": null,
   "id": "0d460624-63f9-4673-8119-3a913db2cd6a",
   "metadata": {
    "id": "0d460624-63f9-4673-8119-3a913db2cd6a"
   },
   "outputs": [],
   "source": [
    "foo = np.array([1, 2, 3])\n",
    "len(foo)"
   ]
  },
  {
   "cell_type": "markdown",
   "id": "986321df-a5a3-4e17-a32a-77ff724dbd50",
   "metadata": {
    "id": "986321df-a5a3-4e17-a32a-77ff724dbd50"
   },
   "source": [
    "Use 'len()' in code cell below to define another variable 'dCount' which is the result of counting the number of elements in 'dVec'."
   ]
  },
  {
   "cell_type": "code",
   "execution_count": null,
   "id": "ccfa221a-cadc-420e-851f-7e6fba3dc627",
   "metadata": {
    "id": "ccfa221a-cadc-420e-851f-7e6fba3dc627"
   },
   "outputs": [],
   "source": []
  },
  {
   "cell_type": "markdown",
   "id": "e2f77217-16b9-4283-8ce1-56877de4b544",
   "metadata": {
    "id": "e2f77217-16b9-4283-8ce1-56877de4b544"
   },
   "source": [
    "Finally, divide 'dSum' by 'dCount' in the code cell below to arrive at the average of 'dVec' the \"long way\"."
   ]
  },
  {
   "cell_type": "code",
   "execution_count": null,
   "id": "e83e08f5-c93a-40a5-aad2-f70fd403f57e",
   "metadata": {
    "id": "e83e08f5-c93a-40a5-aad2-f70fd403f57e"
   },
   "outputs": [],
   "source": []
  },
  {
   "cell_type": "markdown",
   "id": "d07f6ea6-dd6c-41eb-8898-ea9710dce885",
   "metadata": {
    "id": "d07f6ea6-dd6c-41eb-8898-ea9710dce885"
   },
   "source": [
    "You should find that you calculated an average distance of 435.028 mm just like when using the short way."
   ]
  },
  {
   "cell_type": "markdown",
   "id": "88c8ccb7-fc63-4c3b-ae22-86ee476aad1e",
   "metadata": {
    "id": "88c8ccb7-fc63-4c3b-ae22-86ee476aad1e",
    "tags": []
   },
   "source": [
    "### Calculating standard deviation the \"long way\""
   ]
  },
  {
   "cell_type": "markdown",
   "id": "01acb5dd-b798-4140-872f-75d0bec941ce",
   "metadata": {
    "id": "01acb5dd-b798-4140-872f-75d0bec941ce"
   },
   "source": [
    "This equation is a little more involved, but we want you have some practice with these methods in addition to having to stop and think a bit about each of the pieces involved in doing the standard deviation calculation.\n",
    "\n",
    "Lets look again at our equation for the standard deviation,\n",
    "\n",
    "$$ \\sigma = \\sqrt{\\frac{1}{N-1}\\sum_{i=1}^N \\left(x_i - x_{ave}\\right)^2} $$"
   ]
  },
  {
   "cell_type": "markdown",
   "id": "7ce21b3e-457b-4f90-81a4-7765231644a5",
   "metadata": {
    "id": "7ce21b3e-457b-4f90-81a4-7765231644a5"
   },
   "source": [
    "We need to first find the average (done!), then for each value $x_i$ find the difference between it and the average, then find the square of that difference for each value, then sum up all of those differences of squares, divide that sum by $N-1$ and finally take the square root. Let's do it!\n",
    "\n",
    "Starting with calculating $x_i - x_{ave}$. What we want Python to do is take each data point in 'dVec' and subtract off 'dAvg'. Thankfully, this can be done in a single, intuitive line of code. If we were to do this in a calculator, we'd have to make 25 calculations - one for each data point in 'dVec'. However, Python is smart enough that when we supply it with a 25-element vector like 'dVec' and ask it to subtract off a one-element vector (or scalar) like 'dAvg', then it knows that you want to subtract 'dAvg' from each data point in 'dVec'.\n",
    "\n",
    "Run the example code cell below to see how this works."
   ]
  },
  {
   "cell_type": "code",
   "execution_count": null,
   "id": "7ea3d697-d65f-47cf-ab3c-1d34788a2c7d",
   "metadata": {
    "id": "7ea3d697-d65f-47cf-ab3c-1d34788a2c7d"
   },
   "outputs": [],
   "source": [
    "bar = np.array([1, 2, 3, 4, 5])\n",
    "print('Dummy data = ', bar)\n",
    "\n",
    "barMinusOne = bar - 1\n",
    "print('Dummy data subtracted by 1 = ', barMinusOne)"
   ]
  },
  {
   "cell_type": "markdown",
   "id": "fd13039f-88dc-462b-b2c5-9ea38c7719d6",
   "metadata": {
    "id": "fd13039f-88dc-462b-b2c5-9ea38c7719d6"
   },
   "source": [
    "Using this example, define a new Python variable 'diffFromAvg' below which subtracts off 'dAvg' from each element of 'dVec'."
   ]
  },
  {
   "cell_type": "code",
   "execution_count": null,
   "id": "6d34aaa1-7936-4fd1-b8f0-d538586887ed",
   "metadata": {
    "id": "6d34aaa1-7936-4fd1-b8f0-d538586887ed"
   },
   "outputs": [],
   "source": []
  },
  {
   "cell_type": "markdown",
   "id": "c782b93d-39d3-41a0-9657-dfa4062b1f49",
   "metadata": {
    "id": "c782b93d-39d3-41a0-9657-dfa4062b1f49"
   },
   "source": [
    "Going back to the standard deviation formula, we see that we now need to square each of these differences from the average. In Python, the operator that raises a number to a power is two stars. Again, Python is smart enough to know when we ask to square a vector, Python will square each element within the vector. Run the cell below to define the new variable 'diffFromAvgSquared', which squares your previous result."
   ]
  },
  {
   "cell_type": "code",
   "execution_count": null,
   "id": "a7a11ae0-33ca-4d5e-a07f-fae02e011703",
   "metadata": {
    "id": "a7a11ae0-33ca-4d5e-a07f-fae02e011703"
   },
   "outputs": [],
   "source": [
    "diffFromAvgSquared = diffFromAvg**2"
   ]
  },
  {
   "cell_type": "markdown",
   "id": "0ec5ff2c-d4c1-4339-8414-6c2836e7ed82",
   "metadata": {
    "id": "0ec5ff2c-d4c1-4339-8414-6c2836e7ed82"
   },
   "source": [
    "Our next step is to sum up these squared differences. You already learned how to perform sums in Python using 'np.sum()' earlier in calculating the average the \"long way\". Use 'np.sum()' to define a new variable 'sumSquaredDiffs' which is the result of summing over 'diffFromAvgSquared'."
   ]
  },
  {
   "cell_type": "code",
   "execution_count": null,
   "id": "eb303738-9255-48b6-8cb9-af1418d7b1ac",
   "metadata": {
    "id": "eb303738-9255-48b6-8cb9-af1418d7b1ac"
   },
   "outputs": [],
   "source": []
  },
  {
   "cell_type": "markdown",
   "id": "192f9d7c-c471-4428-8dd9-449d893b770c",
   "metadata": {
    "id": "192f9d7c-c471-4428-8dd9-449d893b770c"
   },
   "source": [
    "Only two steps remaining! Recall that because we use one degree of freedom to calculate the average, which is used in the formula for standard deviation, we divide the sum of the squared differences by $N-1$ instead of $N$. We already have $N$ calculated and stored in the variable 'dCount', so below define a new variable 'dCountMinusOne' which stores $N-1$."
   ]
  },
  {
   "cell_type": "code",
   "execution_count": null,
   "id": "455cd428-1bf0-4339-b337-c3682e441966",
   "metadata": {
    "id": "455cd428-1bf0-4339-b337-c3682e441966"
   },
   "outputs": [],
   "source": []
  },
  {
   "cell_type": "markdown",
   "id": "f619e812-b3d2-4ce1-a8bb-f48ac58de645",
   "metadata": {
    "id": "f619e812-b3d2-4ce1-a8bb-f48ac58de645"
   },
   "source": [
    "Finally, we can combine everything together by running the code cell below, which takes the square root of the sum of the squared differences divided by $N-1$:"
   ]
  },
  {
   "cell_type": "code",
   "execution_count": null,
   "id": "352313dd-e067-486b-8423-685be4ca48e4",
   "metadata": {
    "id": "352313dd-e067-486b-8423-685be4ca48e4"
   },
   "outputs": [],
   "source": [
    "dStdLong = np.sqrt( sumSquaredDiffs / dCountMinusOne )\n",
    "print('Standard deviation (long way) = ', dStdLong)\n",
    "print('Standard deviation (short way) = ', dStd)"
   ]
  },
  {
   "cell_type": "markdown",
   "id": "187dfd6a-9cce-4eb8-8a51-6df3cca76984",
   "metadata": {
    "id": "187dfd6a-9cce-4eb8-8a51-6df3cca76984"
   },
   "source": [
    "If all went well, you should see identical results for calculating the standard deviation of 'dVec' the long or short way."
   ]
  },
  {
   "cell_type": "markdown",
   "id": "0e0b0374-0b4f-47b0-a75a-556f24a2612c",
   "metadata": {},
   "source": [
    "# Collecting your first set of data (approx. 15 min)"
   ]
  },
  {
   "cell_type": "markdown",
   "id": "075d56f9-2fb3-4f59-9717-895c0bb5c70a",
   "metadata": {},
   "source": [
    "For this lab, we are asking you to collect some initial data using a simulation of the experimental equipment.\n",
    "\n",
    "Notes:\n",
    "You may find it helpful to add some notes about your observations in the space before the “GROUP DISCUSSION ABOUT PRELAB MEASUREMENTS” section of your Lab 03 notes.\n",
    "All of your calculations for this analysis and all future analyses should use the “short way” ('np.std(dVec, ddof=1)', etc). The “long way” was intended to help you better understand what the equations are doing and to give you some initial practice with doing calculations by column, which will come up again later in the course. \n",
    "\n",
    "Please open the Pendulum simulation (link found on Canvas in the Lab 03 module). Play around with the pendulum simulation so that you understand how the pendulum and the timer work. In this prelab, you’ll be taking some initial measurements to determine the period of a pendulum (T) at a starting amplitude of $15^\\circ$. Here are things to consider when planning your first set of measurements:\n",
    "\n",
    "1. Remember that the period, T,  is defined as one complete cycle of the pendulum’s motion, returning to the same initial position while also travelling in the same initial direction.\n",
    "2. Once you have figured out how to use timer and pendulum, you will have a design choice to make: you need to decide how many swings back and forth (Mswings) will be counted in each of your trials (Ntrials). Be sure to record Mswings as a python variable (ie, have something like: `Mswings = <value>` in a code cell).\n",
    "3. Start a fresh spreadsheet below for data collection (make sure the name **is different** from the name used for the earlier spreadsheet above). In the new spreadsheet you will record the time taken for Mswings swings of the pendulum in each trial.\n",
    "4. Set an external timer and give yourself 7 minutes total to collect data.\n",
    "   1. Start with a release amplitude of $15^\\circ$. Record the time taken, t for the pendulum to complete M cycles. We will refer to this as your \"measured time\" or just \"time.\"\n",
    "   2. Repeat your measurement as many times as you can in 7 minutes. We will refer to the number of data points you collected as your number of trials, Ntrials.\n",
    "   \n",
    "After your 7 minutes of data collection are finished:\n",
    "\n",
    "5. Press generate_vectors to create a vector with your data\n",
    "6. in a new code cell below your new spreadsheet, calculate the average time for M swings (tave) and the average period (Tave)\n",
    "7. Calculate utave ($u[t_{ave}]$) and uTave ($u[T_{ave}]$, the uncertainties of the means for tave and Tave.\n",
    "8. Calculate relutave and reluTave, the relative uncertainties in tave and Tave.\n"
   ]
  },
  {
   "cell_type": "markdown",
   "id": "2296900e-36fa-4afc-bafe-b3d95772c7e0",
   "metadata": {},
   "source": [
    "## Share your prelab results\n",
    "\n",
    "We will use everybody's shared prelab results as the basis for a discussion about measurement design during the lab. Please add your results to the  Prelab tab of this week's shared student results spreadsheet (find the link on Canvas)."
   ]
  },
  {
   "cell_type": "markdown",
   "id": "VLqz33sYIjwu",
   "metadata": {
    "id": "VLqz33sYIjwu",
    "tags": []
   },
   "source": [
    "# Submission\n",
    "As we've done before, rerun your notebook, proof-read, export as HTML and then submit to Canvas"
   ]
  },
  {
   "cell_type": "code",
   "execution_count": null,
   "id": "067fbc39-9f60-4970-bad9-fb9b2cf7297a",
   "metadata": {},
   "outputs": [],
   "source": [
    "display_sheets()"
   ]
  }
 ],
 "metadata": {
  "colab": {
   "name": "lab03_prelab_part2_student_version.ipynb",
   "provenance": []
  },
  "kernelspec": {
   "display_name": "Python 3 (ipykernel)",
   "language": "python",
   "name": "python3"
  },
  "language_info": {
   "codemirror_mode": {
    "name": "ipython",
    "version": 3
   },
   "file_extension": ".py",
   "mimetype": "text/x-python",
   "name": "python",
   "nbconvert_exporter": "python",
   "pygments_lexer": "ipython3",
   "version": "3.10.6"
  },
  "widgets": {
   "application/vnd.jupyter.widget-state+json": {
    "state": {},
    "version_major": 2,
    "version_minor": 0
   }
  }
 },
 "nbformat": 4,
 "nbformat_minor": 5
}
