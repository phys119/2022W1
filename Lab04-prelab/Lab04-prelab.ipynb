{
 "cells": [
  {
   "cell_type": "markdown",
   "id": "979e74b5-54a2-441e-b6a6-0ed8c03cfc9e",
   "metadata": {},
   "source": [
    "# Welcome to the Prelab Activity for Lab 04"
   ]
  },
  {
   "cell_type": "code",
   "execution_count": 4,
   "id": "68923138-2349-46e2-b557-1005d791992f",
   "metadata": {},
   "outputs": [],
   "source": [
    "import numpy as np\n",
    "import data_entry"
   ]
  },
  {
   "cell_type": "markdown",
   "id": "cf97960f-c569-498a-9171-97dac3516d10",
   "metadata": {},
   "source": [
    "This week's prelab has four main components: \n",
    "\n",
    "1. A review/introduction of the physics behind our Lab 04 experiment, single-slit diffraction from a human hair, \n",
    "2. A guided tutorial to help you build the analysis spreadsheet you will be using for the lab,\n",
    "3. An opportunity to collect and analyze some test data using the simulation, and \n",
    "4. An opportunity to prepare your lab notebook."
   ]
  },
  {
   "cell_type": "markdown",
   "id": "99991980-5d78-4549-8c88-5054fd5dfea8",
   "metadata": {
    "tags": []
   },
   "source": [
    "## Part 1. Review of Diffraction -- The basics on diffraction needed for the lab"
   ]
  },
  {
   "cell_type": "markdown",
   "id": "ee75d065-f7ed-4dd3-a255-5c664aaa9fe2",
   "metadata": {},
   "source": [
    "**If you have not already done so, please read the \"Introduction to the physics of diffraction\" document on Canvas.**"
   ]
  },
  {
   "cell_type": "markdown",
   "id": "7d260a53-7de7-4b53-80d1-ddce88764d4d",
   "metadata": {},
   "source": [
    "**Spreadsheet and Python skills:** the next portion of this prelab walks you through the construction of the spreadsheet and subsequent analysis, which contains some rather nasty uncertainty formulas."
   ]
  },
  {
   "cell_type": "markdown",
   "id": "6c50f0fa-7d3e-4909-a7d2-b0aad2161e29",
   "metadata": {
    "tags": []
   },
   "source": [
    "## Part 2. Preparing your analysis spreadsheet"
   ]
  },
  {
   "cell_type": "markdown",
   "id": "601f5a3b-3002-44ef-80c2-967639e070f6",
   "metadata": {
    "tags": []
   },
   "source": [
    "### Introducing the Hypothetical Data; Building your spreadsheet headers"
   ]
  },
  {
   "cell_type": "markdown",
   "id": "6556edb4-1315-4ce7-8f10-7c4e6c1e070f",
   "metadata": {},
   "source": [
    "Let's build your analysis spreadsheet for this lab using an example set of data.\n",
    "\n",
    "*Hypothetical example data:* \n",
    "\n",
    "The methods described below are for a similar but slightly different experiment. Do not assume that your uncertainties should be the same as these values. These values are for illustration purposes only.\n",
    "\n",
    "- We shine a blue laser ($\\lambda = 473 nm$) onto a strand of cashmere (fine wool from the undercoat of a goat).\n",
    "- We measure the distance to the screen to be $L = 0.8130 m$.\n",
    "- Because the apparatus is a bit awkward to work with in terms of where to place the ruler to make this measurement, we have some difficulty in measuring this distance and estimate a 6-mm width for our 95% confidence Interval on this length measurement. Thus our uncertainty in this length is $u[L] = 6mm/4 = 1.5mm$. We write the distance $L = 0.8130 \\pm 0.0015 m$.\n",
    "- We locate the first dark spot (marked $p = 1$) at a distance $y_1 = 1.95 cm$ to the left of the central bright fringe.\n",
    "- Because of the difficulty of locating the precise middle of the central bright fringe and the difficulty of locating the precise middle of the first dark spot, we estimate a 5-mm width for our 95% confidence interval and an uncertainty of $u[y] = 5mm/4 = 1.25mm = 1.3mm$.\n",
    "\n",
    "Again, these uncertainties are not meant to align with reasonable uncertainties for this experiment. You should ***make your own informed estimates*** of the uncertainties during the lab."
   ]
  },
  {
   "cell_type": "markdown",
   "id": "63758f53-a4c5-4c5e-9c11-0e699f387507",
   "metadata": {},
   "source": [
    "Use the 'data_entry' library in the code cell below to load in a blank spreadsheet. Call it \"prelab04-1\". The table below contains some suggested column headings with the associated units, which you can copy into the first two rows.\n",
    "\n",
    "| p    | L | u[L] | y | u[y] | lambda | $side |\n",
    "|:----:|:-:|:----:|:-:|:----:|:------:|:-----:|\n",
    "| null | m | m    | m | m    | m      |       |\n",
    "\n",
    "*Note: the dollar sign in front of 'side' tells the \"Generate Vectors\" step to skip this column when generating vectors, as this column will be used to track which side of the diffraction pattern you are measuring and thus contains no numerical data.*"
   ]
  },
  {
   "cell_type": "code",
   "execution_count": null,
   "id": "9c207b4b-1b34-4fc1-9d68-06a6610b0e04",
   "metadata": {},
   "outputs": [],
   "source": []
  },
  {
   "cell_type": "markdown",
   "id": "c5c548cf-4b66-4d63-9ce7-7d2f15a235a0",
   "metadata": {
    "tags": []
   },
   "source": [
    "### Entering values using scientific notation"
   ]
  },
  {
   "cell_type": "markdown",
   "id": "dee46b2c-66b2-4462-b391-630221e20736",
   "metadata": {},
   "source": [
    "***The numbers provided here are intended to be realistic numbers for the physical setup using a hair that is much thicker than human hair. They are intended as examples only and are not intended to correspond to values for the real experiment.***\n",
    "\n",
    "You will make your life quite a bit easier in the lab if you use scientific notation when entering the majority of the values being used in calculations. \n",
    "\n",
    "The wavelength of the laser in our hypothetical data set is $473 nm$, which can also be written as $473 \\times 10^{-9} m$ or $4.73 \\times 10^{-7} m$. To enter very small values like this, you can use scientific notation directly in the spreadsheet. For instance, if we want to convert 473 nm to m, since we know one nanometre is $10^{-9}$ metres, we can type '473e-9'. Python will interpret this as $473\\times 10^{-9}$ and do this conversion automatically. Enter this now!\n",
    "\n",
    "*Note: The relative uncertainty on the wavelength of the laser is negligibly small as compared to the relative uncertainties of our other measurements, thus we are able to ignore it in our uncertainty propagations and will simply treat wavelength as an exact value.*\n",
    "\n",
    "Using the Hypothetical Data discussed at the start of the document, practice using scientific notation by entering the values for y and L (and their uncertainties) using scientific notation."
   ]
  },
  {
   "cell_type": "markdown",
   "id": "32ff426e-13b1-4d8c-8256-a01d43412209",
   "metadata": {
    "tags": []
   },
   "source": [
    "### Implementing the equations for $a$, $u[a]$, $z$, $u[z]$."
   ]
  },
  {
   "cell_type": "markdown",
   "id": "f89414f7-e874-4014-9d91-f60c92e9b8de",
   "metadata": {},
   "source": [
    "After ensuring all columns are filled in for row 0 (your first \"trial\" in this prelab), press \"Generate Vectors\" to convert the inputted data to Python vectors (only a single element, corresponding to our single \"trial\"). We will now use these generated vectors to make our intermediate calculation of $z$ and $u[z]$, then finally $a$ and $u[a]$.\n",
    "\n",
    "In the Physics of Single-Slit Diffraction document, we learn that thickness of the hair can be calculated using the formula $a = p\\lambda\\sqrt{1 + z^2}$ when we make the substitution $z = L/y$. Recall that this substitution is being done in order to simplify the expressions that we use for later calculations of $a$ and $u[a]$. Additionally, you can find all of the important derived equations summarized in the Prelab 04 summary document in the Lab 04 module on Canvas.\n",
    "\n",
    "Since $z$ is calculated using a quotient, the uncertainty expression is straightforward (refer to the [Overview of uncertainty propagation](https://docs.google.com/document/d/e/2PACX-1vRHWdf9sHcE5Pt4_4B_Ss7AGJIfqSEqvdVxf6mEBTsiOm40VlRS8vLewAZM0fY1uEP7W7XdZuM54Cly/pub)):\n",
    "\n",
    "$$u[z] = z \\sqrt{\\left(\\frac{u[L]}{L}\\right)^2 + \\left(\\frac{u[y]}{y}\\right)^2}$$\n",
    "\n",
    "In the code cell below, define new variables 'zVec' and 'uzVec' which calculate $z$ and $u[z]$, respectively, using the generated vectors."
   ]
  },
  {
   "cell_type": "code",
   "execution_count": null,
   "id": "381da504-b19c-473b-b3ce-394d26017852",
   "metadata": {},
   "outputs": [],
   "source": []
  },
  {
   "cell_type": "markdown",
   "id": "8a2b4cc1-eac5-4222-aae9-e501af4ec84c",
   "metadata": {},
   "source": [
    "We can now calculate the thickness of the hair using our expression\n",
    "\n",
    "$$a = p\\lambda\\sqrt{1 + z^2}$$\n",
    "\n",
    "Do this now in the code cell below and print out the results. If all went well, you should get $1.97261332 \\times 10^{-5}$ m, or about 19.7 micrometres."
   ]
  },
  {
   "cell_type": "code",
   "execution_count": null,
   "id": "7e511c40-c11a-4c62-a638-952f20edcb0d",
   "metadata": {},
   "outputs": [],
   "source": []
  },
  {
   "cell_type": "markdown",
   "id": "027b4375-096f-4543-8042-9696b2872067",
   "metadata": {},
   "source": [
    "You can now calculate the uncertainty in $a$ using the following equation derived in the review of diffraction:\n",
    "\n",
    "$$u[a] = \\frac{p\\lambda \\cdot u[z] \\cdot z}{\\sqrt{1+z^2}}$$\n",
    "\n",
    "Calculate this below and print out the results. You should get $1.31482267 \\times 10^{-6}$ m."
   ]
  },
  {
   "cell_type": "code",
   "execution_count": null,
   "id": "67d758dc-366b-47af-ab84-a6575f1de730",
   "metadata": {},
   "outputs": [],
   "source": []
  },
  {
   "cell_type": "markdown",
   "id": "a422d862-50c7-4be0-b3e8-d70d24e0e20d",
   "metadata": {
    "tags": []
   },
   "source": [
    "### Repeating Calculations"
   ]
  },
  {
   "cell_type": "markdown",
   "id": "54ab34dd-1abb-4c18-aa67-24980492e6f3",
   "metadata": {},
   "source": [
    "Like last week, we will use the 'sheet_copy' functionality of 'data_entry' to copy our round 1 spreadsheet for round 2. However, unlike last week we will not be overwriting the existing data in the copied spreadsheet, but rather *adding* to it, i.e. building upon your data from previous rounds.\n",
    "\n",
    "Try this now by using 'data_entry.sheet_copy()' to copy \"prelab04-1\" to a new spreadsheet titled \"prelab04-2\"."
   ]
  },
  {
   "cell_type": "code",
   "execution_count": null,
   "id": "5a383f03-b88e-4411-866a-280afc504ea1",
   "metadata": {},
   "outputs": [],
   "source": []
  },
  {
   "cell_type": "markdown",
   "id": "09e3549e-7407-40e2-a899-d5d124290c40",
   "metadata": {},
   "source": [
    "Now we can add a row to this new spreadsheet and enter a second (trial = 2) measurement:\n",
    "\n",
    "- We keep $L$ constant, but now measure the second dark spot (marked $p = 2$) at a distance of $y_2 = 3.95 cm$ to the left of the central bright fringe. You can assume $u[L]$ and $u[y]$ are unchanged from trial 1.\n",
    "\n",
    "Add these new data to row 1 and press \"Generate Vectors\". You can then copy your analysis code from above into a single code cell below and re-run everything. This should give you two-element vectors for each calculated variable, i.e. $z$, $u[z]$, $a$, and $u[a]$, with the first element corresponding to trial 1 and the second element corresponding to trial 2."
   ]
  },
  {
   "cell_type": "code",
   "execution_count": null,
   "id": "50de2fac-f338-4343-8d6a-d41608de4c89",
   "metadata": {},
   "outputs": [],
   "source": []
  },
  {
   "cell_type": "markdown",
   "id": "d1b76751-5393-43f8-8e41-0045872c7397",
   "metadata": {},
   "source": [
    "If you entered everything correctly, you should find $a = (1.949 \\pm 0.064) \\times 10^{-5} m$, or $19.49 \\pm 0.64$ micrometres ($\\mu m$), for trial 2."
   ]
  },
  {
   "cell_type": "markdown",
   "id": "10dbcd03-12cb-4534-bfd9-61bff08c6277",
   "metadata": {
    "tags": []
   },
   "source": [
    "### Ignoring data in spreadsheets"
   ]
  },
  {
   "cell_type": "markdown",
   "id": "1baf9f52-0011-4d71-9d93-a827f521e687",
   "metadata": {},
   "source": [
    "In this course we encourage you to keep a running record of your data collection strategies and the data itself, even if you make a mistake! For instance, you may complete a measurement accidentally using one of the non-central *bright* fringes instead of a dark spot for $y$. If this were the case, this data would be likely entered into your spreadsheet and analyzed before you realized this mistake. \n",
    "\n",
    "Since you do not wish to include this data in your analysis, but you want to keep the data in your spreadsheet as part of the running log of what you've done, you can tell Python to \"ignore\" this data by commenting out the row using a hash ('#'). If the hash is placed in front of the value in any spreadsheet cell of a given row, Python will skip *the entire row* when you press \"Generate Vectors\".\n",
    "\n",
    "Try this out now: in the $p$ column, replace the row 0 value of '1' with '#1' and press \"Generate Vectors\". You should see the output statement 'Row # 0 skipped'. If you now re-run your analysis code below the spreadsheet, you should only see results from row 1 (trial 2)."
   ]
  },
  {
   "cell_type": "markdown",
   "id": "c0328863-72a4-4cb0-9c2b-07860622dc5c",
   "metadata": {
    "tags": []
   },
   "source": [
    "## Part 3 (Optional). Using the single-slit diffraction simulation to collect a test round of data (approx. 20 minutes)"
   ]
  },
  {
   "cell_type": "markdown",
   "id": "969bd31e-19a0-4b94-b25c-451140ab0936",
   "metadata": {},
   "source": [
    "*In the sections above, you will have built an analysis spreadsheet suitable for analysis of the data you will be collecting during the lab. However, if you would like the opportunity to generate your own data and do some additional familiarization ahead of time with how the experiment will work, please use this section to guide you through this work.*\n",
    "\n",
    "Please note that the simulation provides distances in units of pixel \"px\" and the conversion to meters is provided on the simulation. Use 'data_entry.sheet_copy()' to copy your prelab spreadsheet above to a new spreadsheet titled \"lab4-1\". You can either delete or comment out the demo prelab data, before adding a new row for your simulation data.\n",
    "\n",
    "Complete a measurement and subsequent analysis for hair 1 (and optionally for hair 2) using the simulation. Make sure to calculate the relative uncertainty, $u[a]/a$. During the actual lab, you may use this spreadsheet as a starting point, though your simulation data should be commented out."
   ]
  },
  {
   "cell_type": "code",
   "execution_count": null,
   "id": "47002ecb-4971-438a-a901-d3d8a7d36039",
   "metadata": {},
   "outputs": [],
   "source": []
  },
  {
   "cell_type": "markdown",
   "id": "0c1bd58e-a816-4264-bf42-9e6f3ae3abd0",
   "metadata": {
    "tags": []
   },
   "source": [
    "## Part 4. Preparing your lab notebook"
   ]
  },
  {
   "cell_type": "markdown",
   "id": "68ac642d-df8a-4a26-aaed-a52692a03301",
   "metadata": {},
   "source": [
    "Please engage in the following steps to finish your preparation for Lab 04. These steps are designed to get you to spend a bit of time engaging with the lab instructions, the grading rubric and your lab notebook to help you make the most efficient use of your time during the actual lab."
   ]
  },
  {
   "cell_type": "markdown",
   "id": "eec2a23c-a15c-45a0-a1bf-443c0398ad04",
   "metadata": {
    "tags": []
   },
   "source": [
    "### Part 4.1: Review the Lab 04 materials"
   ]
  },
  {
   "cell_type": "markdown",
   "id": "01db78c2-0dec-47e0-b359-12d62486d13a",
   "metadata": {},
   "source": [
    "Spend 5-10 minutes reviewing the Lab 04 Student Instructions to help you develop a sense of how you will be spending your time during this week's lab. You may also find it helpful to review the Lab 04 slides and the rubric found in the Lab 04 submission assignment."
   ]
  },
  {
   "cell_type": "markdown",
   "id": "b90ba9cc-175f-4d59-989e-df1eefc799eb",
   "metadata": {
    "tags": []
   },
   "source": [
    "### Part 4.2: Add some notes and guiding questions to your lab notebook"
   ]
  },
  {
   "cell_type": "markdown",
   "id": "7c370a8f-d284-4b6d-a63d-9a64601a6ccc",
   "metadata": {},
   "source": [
    "Based on your review of the Lab 04 materials (lab instructions, slides, rubric), add the important discussion questions to the Lab 04 notebook template that you want to make sure you remember to address during the lab. Feel free to add any additional reminders or notes to yourself as well."
   ]
  },
  {
   "cell_type": "markdown",
   "id": "26c0b504-bf0b-44e9-b87c-bdce9c466657",
   "metadata": {},
   "source": [
    "# Submission\n",
    "As we've done before, rerun your notebook, proof-read, export as HTML and then submit to Canvas"
   ]
  },
  {
   "cell_type": "code",
   "execution_count": null,
   "id": "b272ea1f-9095-4dae-a3d3-786fc77404bf",
   "metadata": {},
   "outputs": [],
   "source": [
    "display_sheets()"
   ]
  }
 ],
 "metadata": {
  "kernelspec": {
   "display_name": "Python 3 (ipykernel)",
   "language": "python",
   "name": "python3"
  },
  "language_info": {
   "codemirror_mode": {
    "name": "ipython",
    "version": 3
   },
   "file_extension": ".py",
   "mimetype": "text/x-python",
   "name": "python",
   "nbconvert_exporter": "python",
   "pygments_lexer": "ipython3",
   "version": "3.10.6"
  },
  "widgets": {
   "application/vnd.jupyter.widget-state+json": {
    "state": {},
    "version_major": 2,
    "version_minor": 0
   }
  }
 },
 "nbformat": 4,
 "nbformat_minor": 5
}
