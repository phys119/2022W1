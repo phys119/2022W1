{
 "cells": [
  {
   "cell_type": "markdown",
   "id": "32573df8-8e9b-450f-aa6a-64c28ff8c2a2",
   "metadata": {},
   "source": [
    "# Lab 01 - Introduction to Experimentation"
   ]
  },
  {
   "cell_type": "markdown",
   "id": "e556177f-bd50-4cf4-9492-710e564d726e",
   "metadata": {},
   "source": [
    "A reminder to **run the cell below** (by clicking on it and pressing the play/triangle button, or by Shift + Return) before getting started! This cell will import the necessary Python packages to run your data analysis in today's lab."
   ]
  },
  {
   "cell_type": "code",
   "execution_count": 2,
   "id": "26726484-93c7-499a-9f34-d4656ef6df5a",
   "metadata": {
    "colab": {
     "base_uri": "https://localhost:8080/",
     "height": 34,
     "referenced_widgets": [
      "f4867fcd1bc84f73a8ebaf6d3fe7f93a",
      "d034be63185d4811a05ec0f093d02d7a",
      "bd6d356d711e4792a1e9ada201d26b78",
      "c0d9513060084283a214f5c8f025ecf0",
      "da2defae0a8e4905a29dc8d3ca8a42e3",
      "60dc88a1698c461187c3481c679c7b71",
      "5f73d93446b34030af9201112526626f",
      "4d3b430ac5934818a7693c1a6a3d9355",
      "0bedf7f9be8a49378ea8f37f9c2ebf16",
      "ea117ac05b9b41c082cd9d62ef94d518",
      "124f9831f181482eb784405723a8b2d0",
      "8e1cbf36822a474ebdf82a80a5681924",
      "f8023654ea164371b4e3f37957a06c8a",
      "e1709bb85bb34c7e997f035a4c7560b8",
      "5a1355ddfd1840c2bc9de6ebd7342682",
      "624675d0d30242d6bf1213deb6e3f624",
      "699f933c64d24cafa5bfd5e0a1fc397a",
      "d58d95defca340b885a9e405134fc887",
      "58cf21d8ac234496bad2ebd7ae7f2a1d",
      "5e2883b7e2ba4d6d8a1352e621a8183f",
      "ffe3c8f2bda74603a92742464e69ba6b",
      "7ce01fb43382463f9ae0ad311d7b5dc4"
     ]
    },
    "id": "26726484-93c7-499a-9f34-d4656ef6df5a",
    "outputId": "82f6fee3-86ff-43e5-8b52-64b7eb4467ab"
   },
   "outputs": [],
   "source": [
    "import numpy as np"
   ]
  },
  {
   "cell_type": "markdown",
   "id": "c08b103b-21da-4f45-9c80-8fa571ce5be7",
   "metadata": {},
   "source": [
    "Edit this cell and provide the information requested:\n",
    "\n",
    "- Your name:\n",
    "- Your student number:\n",
    "- Partner's name:\n"
   ]
  },
  {
   "cell_type": "markdown",
   "id": "1699f60d-35fb-4ea7-8dbd-83b391307428",
   "metadata": {},
   "source": [
    "## Part B - Familiarization with the experiment"
   ]
  },
  {
   "cell_type": "markdown",
   "id": "c91906bd-3c8d-46d1-9a0b-0cfb288fbc5f",
   "metadata": {},
   "source": [
    "*What is the main target quantity from the experimental goal?*\n",
    "- We want to determine the spring constant, $k$, from a single measurement\n",
    "*What can you control and what can you measure using the simulation?*\n",
    "- We can control the degree to which we compress the spring (to a height $x_2$)\n",
    "- We will measure the uncompressed spring mass ($m_1$) and height ($x_1$), and the compressed mass ($m_2$)\n",
    "*How do you get from these measurable quantities to the target quantity?*\n",
    "- We use the formula for Hooke's law, given below, with our measured quantities\n",
    "- We will assume the local gravitational acceleration to be $g=9.81$ m/s^2\n",
    "\n",
    "Initial measurement strategy:\n",
    "- We will measure all masses using the electronic scale and heights with the ruler\n",
    "- All measurements will be made with SI units (kg for mass, m for height)\n",
    "- The heights will be measured from the top of the table (where the electronic scale is placed) to the end of the coil of the spring\n",
    "    - Although this is measuring the height of the scale in addition to the height of the spring, since we only use $\\Delta x$ in our calculation of $k$, this is OK\n",
    "- We will compress the spring to roughly half of its initial height\n",
    "\n",
    "General observations during measurement:\n",
    "- The spring weighs about 78 g without any force applied\n",
    "- The scale can only read to the nearest gram\n",
    "- Pressing down on the spring and holding increases the scale reading to 100s or even 1000s of grams, depending on the force applied\n",
    "- The compressed spring mass reading is not very stable"
   ]
  },
  {
   "cell_type": "markdown",
   "id": "72ba03be-2223-4099-a292-921436e658da",
   "metadata": {
    "tags": []
   },
   "source": [
    "## Your initial measurement and calculation of $k$"
   ]
  },
  {
   "cell_type": "markdown",
   "id": "ffd7559a-a019-4b0e-b3fb-1c335931a0c5",
   "metadata": {},
   "source": [
    "Use the Python cell below to enter your measured values for $m_1$, $m_2$, $x_1$, and $x_2$. You may then calculate $k$ from these Python variables within the same cell."
   ]
  },
  {
   "cell_type": "code",
   "execution_count": 3,
   "id": "696185dd-d5b6-46ee-81b0-66f4815b8050",
   "metadata": {},
   "outputs": [
    {
     "name": "stdout",
     "output_type": "stream",
     "text": [
      "124.97940000000004\n"
     ]
    }
   ],
   "source": [
    "# type in your measured values to the right of the '=' to define each Python variable below\n",
    "m1 = 0.078 # uncompressed mass reading, in kg\n",
    "x1 = 0.12 # uncompressed height, in m\n",
    "m2 = 0.715 # compressed mass reading, in kg\n",
    "x2 = 0.07 # compressed height, in m\n",
    "\n",
    "# write some code below to calculate k\n",
    "# it may be helpful to define intermediate variables, e.g. delta_m, to make your calculation easier to follow\n",
    "g = 9.81 # acceleration due to gravity (in Vancouver), in m/s^2\n",
    "dx = x2 - x1\n",
    "dm = m2 - m1\n",
    "dF = g * dm\n",
    "k = np.abs(dF) / np.abs(dx)\n",
    "\n",
    "print(k)"
   ]
  },
  {
   "cell_type": "markdown",
   "id": "a332b72c-8553-44c0-ad0c-c2ea9267bb14",
   "metadata": {},
   "source": [
    "# Part C - Discussion with your group (Familiarization)"
   ]
  },
  {
   "cell_type": "markdown",
   "id": "05ea38a1-3a38-45e6-ab2c-965e0491c48e",
   "metadata": {},
   "source": [
    "- Most other groups had spring constants on the order of 100 N/m (smallest: 98 N/m, largest 156 N/m)\n",
    "- One group had a spring constant of about 1 N/m, but we realized they accidentally kept their $x_1$ and $x_2$ in cm\n",
    "- Most other groups chose a compression of a few cm\n",
    "- One group pressed the spring all the way to the scale, but their spring constant was much higher at 212 N/m, so there is probably a systematic error with that measurement technique"
   ]
  },
  {
   "cell_type": "markdown",
   "id": "e4a6be0c-5f4d-41db-ad46-dde8814a6c8f",
   "metadata": {},
   "source": [
    "# Part D -  How the instructional team would perform the measurement"
   ]
  },
  {
   "cell_type": "markdown",
   "id": "f58d9929-fe2c-4d58-bb18-c270b00b9c68",
   "metadata": {},
   "source": [
    "**Uncertainty in $m_1$:**\n",
    "- Follows a uniform PDF\n",
    "- Equal probability for all possible values in a range\n",
    "- Parametrized by half-width, $a$\n",
    "    - e.g., scale rounds to nearest gram so $a=0.5$ g\n",
    "- Standard uncertainty is $\\sigma = a/\\sqrt{3}$\n",
    "\n",
    "**Average:**\n",
    "$$ \\bar{x} = \\frac{1}{N}\\sum_{i=1}^N x_i $$\n",
    "- $N$ is the number of measurements\n",
    "- $x_i$ are the individual measurements\n",
    "- For a Gaussian, the average characterizes the middle of the distribution (symmetric), i.e. the most likely value\n",
    "\n",
    "**Standard deviation:**\n",
    "$$ \\sigma = \\sqrt{\\frac{1}{N-1} \\sum_{i=1}^N (x_i - \\bar{x})^2} $$\n",
    "- Characterizes how far away (on average) a measurement is from the average of all measurements\n",
    "- For a Gaussian, one standard deviation on either side of average corresponds to 68% of all values\n",
    "- Two standard deviations = 95% of all values\n",
    "\n",
    "**Uncertainty in $m_2$:**\n",
    "- Fluctuating values (random) due to \"shakiness\" of hand\n",
    "- Characterized by a Gaussian\n",
    "- Four standard deviations = 95% confidence interval\n",
    "- 95% CI is essentially the difference between the max and min observed values\n",
    "- Standard uncertainty: $\\sigma = 95\\% CI / 4$\n",
    "\n",
    "**Uncertainty in $x_1$ and $x_2$:**\n",
    "- There are a number of small judgments needed to make these measurements (thus Gaussian)\n",
    "- Use these factors to make a reasonable estimate for the 95% CI"
   ]
  },
  {
   "cell_type": "markdown",
   "id": "4536d2bb-9381-4bd0-989b-b2433f8a862b",
   "metadata": {},
   "source": [
    "# Part E - Revisiting your spring constant measurement with measurement uncertainty characterizations and calculations"
   ]
  },
  {
   "cell_type": "markdown",
   "id": "2dd1843e-5a65-4e98-96f5-0baf02598b54",
   "metadata": {},
   "source": [
    "## Notes from the investigation stage"
   ]
  },
  {
   "cell_type": "markdown",
   "id": "15bc9a02-c33e-4472-a0ed-ecb493882fe4",
   "metadata": {},
   "source": [
    "- Since our measurement strategy worked well during familiarization, we will keep it the same as before\n",
    "\n",
    "Uncertainty:\n",
    "- $u[m_1]$ has a uniform PDF since it is a stable digital reading\n",
    "- $u[m_2]$ has a Gaussian PDF since the value is digital, but fluctuating due to the \"shakiness\" of our hand\n",
    "    - We will take the min and max observed mass reading during a five-second compression to calculate this uncertainty\n",
    "- $u[x_1]$ and $u[x_2]$ will also have Gaussian PDFs, since factors such as slight tilts in the ruler, parallax, and the uncertainty on where exactly the top of the spring is provide random sources of uncertainty\n",
    "    - We will eyeball the max and min plausible values off the ruler to calculate these uncertainties"
   ]
  },
  {
   "cell_type": "markdown",
   "id": "91533941-87c0-44e6-9345-b12cef390ef8",
   "metadata": {},
   "source": [
    "## Measurement and data analysis"
   ]
  },
  {
   "cell_type": "markdown",
   "id": "b60c3fdb-b924-4ff8-866c-8820990766e4",
   "metadata": {},
   "source": [
    "Add a new Python cell below and adapt your code from Part A to perform your improved measurement of $k$, along with uncertainty calculations. Consult the Appendix in the student instructions for helpful Python code which you can adapt to perform your uncertainty propagation calculations."
   ]
  },
  {
   "cell_type": "code",
   "execution_count": 4,
   "id": "170c8713-9263-4ecf-8a39-b0171189bad4",
   "metadata": {},
   "outputs": [
    {
     "name": "stdout",
     "output_type": "stream",
     "text": [
      "125.40450000000001\n",
      "1.1580448501677312\n"
     ]
    }
   ],
   "source": [
    "# type in your measured values to the right of the '=' to define each Python variable below\n",
    "m1 = 0.078 # uncompressed mass reading, in kg\n",
    "x1 = 0.12 # uncompressed height, in m\n",
    "m2 = 0.845 # compressed mass reading, in kg\n",
    "x2 = 0.06 # compressed height, in m\n",
    "\n",
    "# write some code below to calculate k\n",
    "# it may be helpful to define intermediate variables, e.g. delta_m, to make your calculation easier to follow\n",
    "g = 9.81 # acceleration due to gravity (in Vancouver), in m/s^2\n",
    "dx = x2 - x1\n",
    "dm = m2 - m1\n",
    "dF = g * dm\n",
    "k = np.abs(dF) / np.abs(dx)\n",
    "\n",
    "print(k)\n",
    "\n",
    "# uncertainty calculations\n",
    "um1 = 0.0005 / np.sqrt(3)\n",
    "um2 = (0.855 - 0.835) / 4\n",
    "ux1 = (0.125 - 0.115) / 4\n",
    "ux2 = (0.065 - 0.055) / 4\n",
    "\n",
    "udm = np.sqrt(um1**2 + um2**2)\n",
    "udx = np.sqrt(ux1**2 + ux2**2)\n",
    "udF = g * udm\n",
    "uk = k * np.sqrt( (udF/dF)**2 + (udm/dm)**2 )\n",
    "\n",
    "print(uk)"
   ]
  },
  {
   "cell_type": "markdown",
   "id": "ab48adcd-5007-458d-8512-9773bf78f09e",
   "metadata": {},
   "source": [
    "# Part F - Summary of results (Start this by 2h30 after the start of the lab)"
   ]
  },
  {
   "cell_type": "markdown",
   "id": "680f7194-c38a-4c37-b8cb-6ca9e60ee8a2",
   "metadata": {},
   "source": [
    "- Our spring constant is similar to our familiarization measurement, at $k=125.4 \\pm 1.2$ N/m (compared to $125.0$ N/m from last time)\n",
    "- The uncertainty seems reasonable, since it covers the difference between our two measurements\n",
    "- Other groups had similar spring constants and uncertainty, such as $126.8 \\pm 2.3$ N/m and $125.55 \\pm 0.81$ N/m (uncertainties overlap with our value)\n",
    "- One group had a similar value but wildly different uncertainty, $124 \\pm 71$ N/m, which is likely a calculation error\n",
    "- If we had more time, we would do even more measurements of $k$ and average the results\n",
    "- We could also improve our measurement technique by using books to stabilize the compression to lower $u[m_2]$ and hence $u[k]$"
   ]
  },
  {
   "cell_type": "markdown",
   "id": "7517a771-b9f8-45bd-bed6-019c5242ccb6",
   "metadata": {},
   "source": [
    "# Submit your lab by 2h50m after the start of lab + 10-minute grace period"
   ]
  },
  {
   "cell_type": "markdown",
   "id": "e0ef016b-4d17-4c3c-bfda-7c3ae55024a4",
   "metadata": {},
   "source": [
    "Steps for submission:\n",
    "\n",
    "1. **Re-run all cells.** From the upper bar, select 'Kernel->Restart_Kernel_and_Run_All_Cells'\n",
    "2. Look through the notebook to ensure all Markdown code formatted correctly and all Python code ran properly.\n",
    "3. **Export to HTML.** Select 'File -> Save and Export Notebook As... -> HTML'.\n",
    "4. Open up the HTML document and ensure everything looks correct.\n",
    "5. Upload the HTML document to the lab submission assignment on Canvas.\n",
    "\n",
    "You will receive a participation grade this week for a reasonable submission as well as feedback from a TA for next week."
   ]
  }
 ],
 "metadata": {
  "colab": {
   "collapsed_sections": [],
   "name": "Lab00.ipynb",
   "provenance": []
  },
  "kernelspec": {
   "display_name": "Python 3 (ipykernel)",
   "language": "python",
   "name": "python3"
  },
  "language_info": {
   "codemirror_mode": {
    "name": "ipython",
    "version": 3
   },
   "file_extension": ".py",
   "mimetype": "text/x-python",
   "name": "python",
   "nbconvert_exporter": "python",
   "pygments_lexer": "ipython3",
   "version": "3.10.5"
  },
  "widgets": {
   "application/vnd.jupyter.widget-state+json": {
    "0bedf7f9be8a49378ea8f37f9c2ebf16": {
     "model_module": "@jupyter-widgets/controls",
     "model_module_version": "1.5.0",
     "model_name": "ButtonModel",
     "state": {
      "_dom_classes": [],
      "_model_module": "@jupyter-widgets/controls",
      "_model_module_version": "1.5.0",
      "_model_name": "ButtonModel",
      "_view_count": null,
      "_view_module": "@jupyter-widgets/controls",
      "_view_module_version": "1.5.0",
      "_view_name": "ButtonView",
      "button_style": "",
      "description": "Add Column",
      "disabled": false,
      "icon": "",
      "layout": "IPY_MODEL_58cf21d8ac234496bad2ebd7ae7f2a1d",
      "style": "IPY_MODEL_5e2883b7e2ba4d6d8a1352e621a8183f",
      "tooltip": ""
     }
    },
    "124f9831f181482eb784405723a8b2d0": {
     "model_module": "@jupyter-widgets/base",
     "model_module_version": "1.2.0",
     "model_name": "LayoutModel",
     "state": {
      "_model_module": "@jupyter-widgets/base",
      "_model_module_version": "1.2.0",
      "_model_name": "LayoutModel",
      "_view_count": null,
      "_view_module": "@jupyter-widgets/base",
      "_view_module_version": "1.2.0",
      "_view_name": "LayoutView",
      "align_content": null,
      "align_items": null,
      "align_self": null,
      "border": null,
      "bottom": null,
      "display": null,
      "flex": null,
      "flex_flow": null,
      "grid_area": null,
      "grid_auto_columns": null,
      "grid_auto_flow": null,
      "grid_auto_rows": null,
      "grid_column": null,
      "grid_gap": null,
      "grid_row": null,
      "grid_template_areas": null,
      "grid_template_columns": null,
      "grid_template_rows": null,
      "height": null,
      "justify_content": null,
      "justify_items": null,
      "left": null,
      "margin": null,
      "max_height": null,
      "max_width": null,
      "min_height": null,
      "min_width": null,
      "object_fit": null,
      "object_position": null,
      "order": null,
      "overflow": null,
      "overflow_x": null,
      "overflow_y": null,
      "padding": null,
      "right": null,
      "top": null,
      "visibility": null,
      "width": null
     }
    },
    "4d3b430ac5934818a7693c1a6a3d9355": {
     "model_module": "@jupyter-widgets/controls",
     "model_module_version": "1.5.0",
     "model_name": "ButtonModel",
     "state": {
      "_dom_classes": [],
      "_model_module": "@jupyter-widgets/controls",
      "_model_module_version": "1.5.0",
      "_model_name": "ButtonModel",
      "_view_count": null,
      "_view_module": "@jupyter-widgets/controls",
      "_view_module_version": "1.5.0",
      "_view_name": "ButtonView",
      "button_style": "",
      "description": "Add Row",
      "disabled": false,
      "icon": "",
      "layout": "IPY_MODEL_699f933c64d24cafa5bfd5e0a1fc397a",
      "style": "IPY_MODEL_d58d95defca340b885a9e405134fc887",
      "tooltip": ""
     }
    },
    "58cf21d8ac234496bad2ebd7ae7f2a1d": {
     "model_module": "@jupyter-widgets/base",
     "model_module_version": "1.2.0",
     "model_name": "LayoutModel",
     "state": {
      "_model_module": "@jupyter-widgets/base",
      "_model_module_version": "1.2.0",
      "_model_name": "LayoutModel",
      "_view_count": null,
      "_view_module": "@jupyter-widgets/base",
      "_view_module_version": "1.2.0",
      "_view_name": "LayoutView",
      "align_content": null,
      "align_items": null,
      "align_self": null,
      "border": null,
      "bottom": null,
      "display": null,
      "flex": null,
      "flex_flow": null,
      "grid_area": null,
      "grid_auto_columns": null,
      "grid_auto_flow": null,
      "grid_auto_rows": null,
      "grid_column": null,
      "grid_gap": null,
      "grid_row": null,
      "grid_template_areas": null,
      "grid_template_columns": null,
      "grid_template_rows": null,
      "height": null,
      "justify_content": null,
      "justify_items": null,
      "left": null,
      "margin": null,
      "max_height": null,
      "max_width": null,
      "min_height": null,
      "min_width": null,
      "object_fit": null,
      "object_position": null,
      "order": null,
      "overflow": null,
      "overflow_x": null,
      "overflow_y": null,
      "padding": null,
      "right": null,
      "top": null,
      "visibility": null,
      "width": null
     }
    },
    "5a1355ddfd1840c2bc9de6ebd7342682": {
     "model_module": "@jupyter-widgets/base",
     "model_module_version": "1.2.0",
     "model_name": "LayoutModel",
     "state": {
      "_model_module": "@jupyter-widgets/base",
      "_model_module_version": "1.2.0",
      "_model_name": "LayoutModel",
      "_view_count": null,
      "_view_module": "@jupyter-widgets/base",
      "_view_module_version": "1.2.0",
      "_view_name": "LayoutView",
      "align_content": null,
      "align_items": null,
      "align_self": null,
      "border": null,
      "bottom": null,
      "display": null,
      "flex": null,
      "flex_flow": null,
      "grid_area": null,
      "grid_auto_columns": null,
      "grid_auto_flow": null,
      "grid_auto_rows": null,
      "grid_column": null,
      "grid_gap": null,
      "grid_row": null,
      "grid_template_areas": null,
      "grid_template_columns": null,
      "grid_template_rows": null,
      "height": null,
      "justify_content": null,
      "justify_items": null,
      "left": null,
      "margin": null,
      "max_height": null,
      "max_width": null,
      "min_height": null,
      "min_width": null,
      "object_fit": null,
      "object_position": null,
      "order": null,
      "overflow": null,
      "overflow_x": null,
      "overflow_y": null,
      "padding": null,
      "right": null,
      "top": null,
      "visibility": null,
      "width": null
     }
    },
    "5e2883b7e2ba4d6d8a1352e621a8183f": {
     "model_module": "@jupyter-widgets/controls",
     "model_module_version": "1.5.0",
     "model_name": "ButtonStyleModel",
     "state": {
      "_model_module": "@jupyter-widgets/controls",
      "_model_module_version": "1.5.0",
      "_model_name": "ButtonStyleModel",
      "_view_count": null,
      "_view_module": "@jupyter-widgets/base",
      "_view_module_version": "1.2.0",
      "_view_name": "StyleView",
      "button_color": null,
      "font_weight": ""
     }
    },
    "5f73d93446b34030af9201112526626f": {
     "model_module": "@jupyter-widgets/controls",
     "model_module_version": "1.5.0",
     "model_name": "ButtonModel",
     "state": {
      "_dom_classes": [],
      "_model_module": "@jupyter-widgets/controls",
      "_model_module_version": "1.5.0",
      "_model_name": "ButtonModel",
      "_view_count": null,
      "_view_module": "@jupyter-widgets/controls",
      "_view_module_version": "1.5.0",
      "_view_name": "ButtonView",
      "button_style": "",
      "description": "Redo",
      "disabled": false,
      "icon": "",
      "layout": "IPY_MODEL_5a1355ddfd1840c2bc9de6ebd7342682",
      "style": "IPY_MODEL_624675d0d30242d6bf1213deb6e3f624",
      "tooltip": ""
     }
    },
    "60dc88a1698c461187c3481c679c7b71": {
     "model_module": "@jupyter-widgets/controls",
     "model_module_version": "1.5.0",
     "model_name": "ButtonModel",
     "state": {
      "_dom_classes": [],
      "_model_module": "@jupyter-widgets/controls",
      "_model_module_version": "1.5.0",
      "_model_name": "ButtonModel",
      "_view_count": null,
      "_view_module": "@jupyter-widgets/controls",
      "_view_module_version": "1.5.0",
      "_view_name": "ButtonView",
      "button_style": "",
      "description": "Undo",
      "disabled": false,
      "icon": "",
      "layout": "IPY_MODEL_f8023654ea164371b4e3f37957a06c8a",
      "style": "IPY_MODEL_e1709bb85bb34c7e997f035a4c7560b8",
      "tooltip": ""
     }
    },
    "624675d0d30242d6bf1213deb6e3f624": {
     "model_module": "@jupyter-widgets/controls",
     "model_module_version": "1.5.0",
     "model_name": "ButtonStyleModel",
     "state": {
      "_model_module": "@jupyter-widgets/controls",
      "_model_module_version": "1.5.0",
      "_model_name": "ButtonStyleModel",
      "_view_count": null,
      "_view_module": "@jupyter-widgets/base",
      "_view_module_version": "1.2.0",
      "_view_name": "StyleView",
      "button_color": null,
      "font_weight": ""
     }
    },
    "699f933c64d24cafa5bfd5e0a1fc397a": {
     "model_module": "@jupyter-widgets/base",
     "model_module_version": "1.2.0",
     "model_name": "LayoutModel",
     "state": {
      "_model_module": "@jupyter-widgets/base",
      "_model_module_version": "1.2.0",
      "_model_name": "LayoutModel",
      "_view_count": null,
      "_view_module": "@jupyter-widgets/base",
      "_view_module_version": "1.2.0",
      "_view_name": "LayoutView",
      "align_content": null,
      "align_items": null,
      "align_self": null,
      "border": null,
      "bottom": null,
      "display": null,
      "flex": null,
      "flex_flow": null,
      "grid_area": null,
      "grid_auto_columns": null,
      "grid_auto_flow": null,
      "grid_auto_rows": null,
      "grid_column": null,
      "grid_gap": null,
      "grid_row": null,
      "grid_template_areas": null,
      "grid_template_columns": null,
      "grid_template_rows": null,
      "height": null,
      "justify_content": null,
      "justify_items": null,
      "left": null,
      "margin": null,
      "max_height": null,
      "max_width": null,
      "min_height": null,
      "min_width": null,
      "object_fit": null,
      "object_position": null,
      "order": null,
      "overflow": null,
      "overflow_x": null,
      "overflow_y": null,
      "padding": null,
      "right": null,
      "top": null,
      "visibility": null,
      "width": null
     }
    },
    "7ce01fb43382463f9ae0ad311d7b5dc4": {
     "model_module": "@jupyter-widgets/controls",
     "model_module_version": "1.5.0",
     "model_name": "ButtonStyleModel",
     "state": {
      "_model_module": "@jupyter-widgets/controls",
      "_model_module_version": "1.5.0",
      "_model_name": "ButtonStyleModel",
      "_view_count": null,
      "_view_module": "@jupyter-widgets/base",
      "_view_module_version": "1.2.0",
      "_view_name": "StyleView",
      "button_color": null,
      "font_weight": ""
     }
    },
    "8e1cbf36822a474ebdf82a80a5681924": {
     "model_module": "@jupyter-widgets/base",
     "model_module_version": "1.2.0",
     "model_name": "LayoutModel",
     "state": {
      "_model_module": "@jupyter-widgets/base",
      "_model_module_version": "1.2.0",
      "_model_name": "LayoutModel",
      "_view_count": null,
      "_view_module": "@jupyter-widgets/base",
      "_view_module_version": "1.2.0",
      "_view_name": "LayoutView",
      "align_content": null,
      "align_items": null,
      "align_self": null,
      "border": null,
      "bottom": null,
      "display": null,
      "flex": null,
      "flex_flow": null,
      "grid_area": null,
      "grid_auto_columns": null,
      "grid_auto_flow": null,
      "grid_auto_rows": null,
      "grid_column": null,
      "grid_gap": null,
      "grid_row": null,
      "grid_template_areas": null,
      "grid_template_columns": null,
      "grid_template_rows": null,
      "height": null,
      "justify_content": null,
      "justify_items": null,
      "left": null,
      "margin": null,
      "max_height": null,
      "max_width": null,
      "min_height": null,
      "min_width": null,
      "object_fit": null,
      "object_position": null,
      "order": null,
      "overflow": null,
      "overflow_x": null,
      "overflow_y": null,
      "padding": null,
      "right": null,
      "top": null,
      "visibility": null,
      "width": null
     }
    },
    "bd6d356d711e4792a1e9ada201d26b78": {
     "model_module": "@jupyter-widgets/controls",
     "model_module_version": "1.5.0",
     "model_name": "HBoxModel",
     "state": {
      "_dom_classes": [],
      "_model_module": "@jupyter-widgets/controls",
      "_model_module_version": "1.5.0",
      "_model_name": "HBoxModel",
      "_view_count": null,
      "_view_module": "@jupyter-widgets/controls",
      "_view_module_version": "1.5.0",
      "_view_name": "HBoxView",
      "box_style": "",
      "children": [
       "IPY_MODEL_60dc88a1698c461187c3481c679c7b71",
       "IPY_MODEL_5f73d93446b34030af9201112526626f",
       "IPY_MODEL_4d3b430ac5934818a7693c1a6a3d9355",
       "IPY_MODEL_0bedf7f9be8a49378ea8f37f9c2ebf16",
       "IPY_MODEL_ea117ac05b9b41c082cd9d62ef94d518"
      ],
      "layout": "IPY_MODEL_124f9831f181482eb784405723a8b2d0"
     }
    },
    "c0d9513060084283a214f5c8f025ecf0": {
     "model_module": "@jupyter-widgets/output",
     "model_module_version": "1.0.0",
     "model_name": "OutputModel",
     "state": {
      "_dom_classes": [],
      "_model_module": "@jupyter-widgets/output",
      "_model_module_version": "1.0.0",
      "_model_name": "OutputModel",
      "_view_count": null,
      "_view_module": "@jupyter-widgets/output",
      "_view_module_version": "1.0.0",
      "_view_name": "OutputView",
      "layout": "IPY_MODEL_8e1cbf36822a474ebdf82a80a5681924",
      "msg_id": "",
      "outputs": []
     }
    },
    "d034be63185d4811a05ec0f093d02d7a": {
     "model_module": "ipysheet",
     "model_module_version": "~0.5.0",
     "model_name": "SheetModel",
     "state": {
      "_dom_classes": [],
      "_model_module": "ipysheet",
      "_model_module_version": "~0.5.0",
      "_model_name": "SheetModel",
      "_view_count": null,
      "_view_module": "ipysheet",
      "_view_module_version": "~0.5.0",
      "_view_name": "SheetView",
      "cells": [
       "IPY_MODEL_59321e9fae854003bfa507deb5ad4e3c",
       "IPY_MODEL_0e4754ae62c844b284a3953cbdd7fcc6",
       "IPY_MODEL_5c7d8dcfaa064fbd8164f226a28c99f5",
       "IPY_MODEL_05f3741b38f44e789109a715680f83da",
       "IPY_MODEL_de9c891bf4564cd291c16dd7af96b93e",
       "IPY_MODEL_6f0ad380e6a94552af7d9a644561a185",
       "IPY_MODEL_cd5621e0ed9c4cee8b421cab2549e620",
       "IPY_MODEL_bad106870bb2420f941f55afbd1cd8f4",
       "IPY_MODEL_089200670b944ead9c4f478c93ea5d59",
       "IPY_MODEL_1f9a09ae5ce84ff8bcacdfa6298da926",
       "IPY_MODEL_f77121bd3cc54d08a2d13105d91f7a5f",
       "IPY_MODEL_e8713d457fd0420b8bda0e1e58995c69",
       "IPY_MODEL_7818c1c15d014d49a3284e56ce570f67",
       "IPY_MODEL_31b06bc082964cd683448d22d7448789",
       "IPY_MODEL_3119294af972418d90a1549689892099",
       "IPY_MODEL_3f297a791ec54a66811f6b6df86cf5ba",
       "IPY_MODEL_9e9a57ef27c2408197aac74ac8aafe87",
       "IPY_MODEL_d917f20a0d984889abb07dd5a7ea1825",
       "IPY_MODEL_304f821ae83a4788a2223b61daaa26c6",
       "IPY_MODEL_18315703372b4699accdacffec5b977c",
       "IPY_MODEL_345371231f2a4ab1b81cd07d14fd1153",
       "IPY_MODEL_3ee467a74ad64659b4066311ada62690",
       "IPY_MODEL_626ff99a4ae343f9be4102fad4aeb6fd",
       "IPY_MODEL_8462ecddad974f028330782fe20af679",
       "IPY_MODEL_5327de8b9f844dcf9ecdc1ae25b97584",
       "IPY_MODEL_550c30b6f9d4456a988e55c2b8c52971",
       "IPY_MODEL_83f12dd661294a0a964d6a39d4b46a9f",
       "IPY_MODEL_470b477e177b4fdba88254ab092dc197",
       "IPY_MODEL_f25bf67a12334b1db93eb8ef513ef77e",
       "IPY_MODEL_7f4970c42f434d9188c583746bea658f"
      ],
      "column_headers": false,
      "column_resizing": true,
      "column_width": null,
      "columns": 3,
      "layout": "IPY_MODEL_fae87f9a14c0452d9098db700d85412c",
      "named_cells": {},
      "row_headers": [
       "Variable:",
       "Units:",
       "0",
       "1",
       "2",
       "3",
       "4",
       "5",
       "6",
       "7"
      ],
      "row_resizing": true,
      "rows": 10,
      "search_token": "",
      "stretch_headers": "all"
     }
    },
    "d58d95defca340b885a9e405134fc887": {
     "model_module": "@jupyter-widgets/controls",
     "model_module_version": "1.5.0",
     "model_name": "ButtonStyleModel",
     "state": {
      "_model_module": "@jupyter-widgets/controls",
      "_model_module_version": "1.5.0",
      "_model_name": "ButtonStyleModel",
      "_view_count": null,
      "_view_module": "@jupyter-widgets/base",
      "_view_module_version": "1.2.0",
      "_view_name": "StyleView",
      "button_color": null,
      "font_weight": ""
     }
    },
    "da2defae0a8e4905a29dc8d3ca8a42e3": {
     "model_module": "@jupyter-widgets/base",
     "model_module_version": "1.2.0",
     "model_name": "LayoutModel",
     "state": {
      "_model_module": "@jupyter-widgets/base",
      "_model_module_version": "1.2.0",
      "_model_name": "LayoutModel",
      "_view_count": null,
      "_view_module": "@jupyter-widgets/base",
      "_view_module_version": "1.2.0",
      "_view_name": "LayoutView",
      "align_content": null,
      "align_items": null,
      "align_self": null,
      "border": null,
      "bottom": null,
      "display": null,
      "flex": null,
      "flex_flow": null,
      "grid_area": null,
      "grid_auto_columns": null,
      "grid_auto_flow": null,
      "grid_auto_rows": null,
      "grid_column": null,
      "grid_gap": null,
      "grid_row": null,
      "grid_template_areas": null,
      "grid_template_columns": null,
      "grid_template_rows": null,
      "height": null,
      "justify_content": null,
      "justify_items": null,
      "left": null,
      "margin": null,
      "max_height": null,
      "max_width": null,
      "min_height": null,
      "min_width": null,
      "object_fit": null,
      "object_position": null,
      "order": null,
      "overflow": null,
      "overflow_x": null,
      "overflow_y": null,
      "padding": null,
      "right": null,
      "top": null,
      "visibility": null,
      "width": null
     }
    },
    "e1709bb85bb34c7e997f035a4c7560b8": {
     "model_module": "@jupyter-widgets/controls",
     "model_module_version": "1.5.0",
     "model_name": "ButtonStyleModel",
     "state": {
      "_model_module": "@jupyter-widgets/controls",
      "_model_module_version": "1.5.0",
      "_model_name": "ButtonStyleModel",
      "_view_count": null,
      "_view_module": "@jupyter-widgets/base",
      "_view_module_version": "1.2.0",
      "_view_name": "StyleView",
      "button_color": null,
      "font_weight": ""
     }
    },
    "ea117ac05b9b41c082cd9d62ef94d518": {
     "model_module": "@jupyter-widgets/controls",
     "model_module_version": "1.5.0",
     "model_name": "ButtonModel",
     "state": {
      "_dom_classes": [],
      "_model_module": "@jupyter-widgets/controls",
      "_model_module_version": "1.5.0",
      "_model_name": "ButtonModel",
      "_view_count": null,
      "_view_module": "@jupyter-widgets/controls",
      "_view_module_version": "1.5.0",
      "_view_name": "ButtonView",
      "button_style": "",
      "description": "Generate Vectors",
      "disabled": false,
      "icon": "",
      "layout": "IPY_MODEL_ffe3c8f2bda74603a92742464e69ba6b",
      "style": "IPY_MODEL_7ce01fb43382463f9ae0ad311d7b5dc4",
      "tooltip": ""
     }
    },
    "f4867fcd1bc84f73a8ebaf6d3fe7f93a": {
     "model_module": "@jupyter-widgets/controls",
     "model_module_version": "1.5.0",
     "model_name": "VBoxModel",
     "state": {
      "_dom_classes": [],
      "_model_module": "@jupyter-widgets/controls",
      "_model_module_version": "1.5.0",
      "_model_name": "VBoxModel",
      "_view_count": null,
      "_view_module": "@jupyter-widgets/controls",
      "_view_module_version": "1.5.0",
      "_view_name": "VBoxView",
      "box_style": "",
      "children": [
       "IPY_MODEL_d034be63185d4811a05ec0f093d02d7a",
       "IPY_MODEL_bd6d356d711e4792a1e9ada201d26b78",
       "IPY_MODEL_c0d9513060084283a214f5c8f025ecf0"
      ],
      "layout": "IPY_MODEL_da2defae0a8e4905a29dc8d3ca8a42e3"
     }
    },
    "f8023654ea164371b4e3f37957a06c8a": {
     "model_module": "@jupyter-widgets/base",
     "model_module_version": "1.2.0",
     "model_name": "LayoutModel",
     "state": {
      "_model_module": "@jupyter-widgets/base",
      "_model_module_version": "1.2.0",
      "_model_name": "LayoutModel",
      "_view_count": null,
      "_view_module": "@jupyter-widgets/base",
      "_view_module_version": "1.2.0",
      "_view_name": "LayoutView",
      "align_content": null,
      "align_items": null,
      "align_self": null,
      "border": null,
      "bottom": null,
      "display": null,
      "flex": null,
      "flex_flow": null,
      "grid_area": null,
      "grid_auto_columns": null,
      "grid_auto_flow": null,
      "grid_auto_rows": null,
      "grid_column": null,
      "grid_gap": null,
      "grid_row": null,
      "grid_template_areas": null,
      "grid_template_columns": null,
      "grid_template_rows": null,
      "height": null,
      "justify_content": null,
      "justify_items": null,
      "left": null,
      "margin": null,
      "max_height": null,
      "max_width": null,
      "min_height": null,
      "min_width": null,
      "object_fit": null,
      "object_position": null,
      "order": null,
      "overflow": null,
      "overflow_x": null,
      "overflow_y": null,
      "padding": null,
      "right": null,
      "top": null,
      "visibility": null,
      "width": null
     }
    },
    "ffe3c8f2bda74603a92742464e69ba6b": {
     "model_module": "@jupyter-widgets/base",
     "model_module_version": "1.2.0",
     "model_name": "LayoutModel",
     "state": {
      "_model_module": "@jupyter-widgets/base",
      "_model_module_version": "1.2.0",
      "_model_name": "LayoutModel",
      "_view_count": null,
      "_view_module": "@jupyter-widgets/base",
      "_view_module_version": "1.2.0",
      "_view_name": "LayoutView",
      "align_content": null,
      "align_items": null,
      "align_self": null,
      "border": null,
      "bottom": null,
      "display": null,
      "flex": null,
      "flex_flow": null,
      "grid_area": null,
      "grid_auto_columns": null,
      "grid_auto_flow": null,
      "grid_auto_rows": null,
      "grid_column": null,
      "grid_gap": null,
      "grid_row": null,
      "grid_template_areas": null,
      "grid_template_columns": null,
      "grid_template_rows": null,
      "height": null,
      "justify_content": null,
      "justify_items": null,
      "left": null,
      "margin": null,
      "max_height": null,
      "max_width": null,
      "min_height": null,
      "min_width": null,
      "object_fit": null,
      "object_position": null,
      "order": null,
      "overflow": null,
      "overflow_x": null,
      "overflow_y": null,
      "padding": null,
      "right": null,
      "top": null,
      "visibility": null,
      "width": null
     }
    }
   }
  }
 },
 "nbformat": 4,
 "nbformat_minor": 5
}
