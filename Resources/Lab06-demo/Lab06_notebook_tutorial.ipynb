{
 "cells": [
  {
   "cell_type": "markdown",
   "id": "2c32fb06-bb63-49c1-aa51-125a423b0747",
   "metadata": {},
   "source": [
    "# Lab 06 notebook tutorial"
   ]
  },
  {
   "cell_type": "code",
   "execution_count": 3,
   "id": "be5b35ac-3c4e-42d4-b63a-46d7c26153a6",
   "metadata": {},
   "outputs": [],
   "source": [
    "import data_entry\n",
    "import numpy as np\n",
    "import matplotlib.pyplot as plt"
   ]
  },
  {
   "cell_type": "code",
   "execution_count": 4,
   "id": "f1759948-cdb0-4a74-8d7b-3a78feead5c5",
   "metadata": {},
   "outputs": [
    {
     "name": "stdout",
     "output_type": "stream",
     "text": [
      "Sheet name: lab05_prelab_data1.csv\n"
     ]
    },
    {
     "data": {
      "application/vnd.jupyter.widget-view+json": {
       "model_id": "e5df9272deee40fba06dc9f4b1ab86d0",
       "version_major": 2,
       "version_minor": 0
      },
      "text/plain": [
       "VBox(children=(Sheet(cells=(Cell(column_end=0, column_start=0, row_end=0, row_start=0, type='text', value='dx'…"
      ]
     },
     "metadata": {},
     "output_type": "display_data"
    }
   ],
   "source": [
    "de = data_entry.sheet(\"lab05_prelab_data1\")"
   ]
  },
  {
   "cell_type": "code",
   "execution_count": 5,
   "id": "79e47a00-266f-48be-98c4-f036fc5cff84",
   "metadata": {},
   "outputs": [
    {
     "data": {
      "image/png": "[encoded data removed]",
      "text/plain": [
       "<Figure size 432x288 with 1 Axes>"
      ]
     },
     "metadata": {
      "needs_background": "light"
     },
     "output_type": "display_data"
    },
    {
     "name": "stdout",
     "output_type": "stream",
     "text": [
      "Weighted chi-squared:  4.944523809523799\n"
     ]
    },
    {
     "data": {
      "image/png": "[encoded data removed]",
      "text/plain": [
       "<Figure size 432x288 with 1 Axes>"
      ]
     },
     "metadata": {
      "needs_background": "light"
     },
     "output_type": "display_data"
    }
   ],
   "source": [
    "# Step 1: find the limits of the data:\n",
    "xmin = np.min(dxVec) # use the np.min function to find the smallest x value\n",
    "xmax = np.max(dxVec) # same for max\n",
    "# print (xmin, xmax)  # uncomment to see what the limits are\n",
    "\n",
    "# Step 2: generate a bunch of x points between xmin and xmax\n",
    "xpoints = np.linspace(xmin, xmax, 200) # gives 200 evenly spaced points between xmin and xmax\n",
    "# print(xpoints) # uncomment to see the x values that were generated.\n",
    "\n",
    "# Step 3: calculate the model values:\n",
    "slope = 2.3 # Estimate of the slope.\n",
    "ypoints = xpoints * slope # this calculates the yvalues at all 200 points.\n",
    "\n",
    "# Step 4: plot the curve. We plot this as a red line \"r-\" :\n",
    "plt.plot(xpoints, ypoints, \"r-\", label = \"F = kx\")\n",
    "\n",
    "# Let's plot our data with the model:\n",
    "plt.errorbar(dxVec, FVec, uFVec, fmt=\"bo\", markersize = 3, label=\"Experimental data\")\n",
    "plt.title(\"Force vs. Displacement for spring\")\n",
    "plt.xlabel(\"Displacement of spring from equilibrium (m)\")\n",
    "plt.ylabel(\"Force (N)\")\n",
    "plt.legend()\n",
    "plt.show()\n",
    "\n",
    "#Residuals Plot\n",
    "# Step 1: Calculate the model at each x-datapoint\n",
    "ymodel = slope * dxVec # y = mx at each x_i\n",
    "\n",
    "# Step 2: Calculate the residual vector\n",
    "RVec = FVec - ymodel\n",
    "\n",
    "# Calculate chi-squared \n",
    "chi2 = np.sum((RVec/uFVec)**2)/len(dxVec-1)\n",
    "print (\"Weighted chi-squared: \", chi2)\n",
    "\n",
    "\n",
    "# Step 3: Plot the residual vector against the x-data vector\n",
    "plt.errorbar(dxVec, RVec, uFVec, fmt=\"bo\", markersize = 3)\n",
    "\n",
    "# Step 4: Add a R = 0 x-axis (horizontal line) to the plot\n",
    "plt.hlines(y=0, xmin=xmin, xmax=xmax, color='k') # draw axis at y = 0.\n",
    "\n",
    "# Add axis labels and title, and show the graph\n",
    "plt.title(\"Residuals for Force vs. displacement for spring\")\n",
    "plt.xlabel(\"Displacement (m)\")\n",
    "plt.ylabel(\"Residual = data - model (N)\")\n",
    "plt.show()\n",
    "\n"
   ]
  },
  {
   "cell_type": "code",
   "execution_count": 6,
   "id": "1eb22723-2b5b-4482-9048-65c937f98bee",
   "metadata": {},
   "outputs": [
    {
     "name": "stdout",
     "output_type": "stream",
     "text": [
      "Sheet name: chi2-1.csv\n"
     ]
    },
    {
     "data": {
      "application/vnd.jupyter.widget-view+json": {
       "model_id": "13f04cdeb7a641e5854e1665bf99e731",
       "version_major": 2,
       "version_minor": 0
      },
      "text/plain": [
       "VBox(children=(Sheet(cells=(Cell(column_end=0, column_start=0, row_end=0, row_start=0, type='text', value=''),…"
      ]
     },
     "metadata": {},
     "output_type": "display_data"
    }
   ],
   "source": [
    "dec = data_entry.sheet('chi2-1')"
   ]
  },
  {
   "cell_type": "markdown",
   "id": "e81b32e1-9d7f-4eed-a638-02fea2b9a862",
   "metadata": {
    "jp-MarkdownHeadingCollapsed": true,
    "tags": []
   },
   "source": [
    "### Best estimate for slope:"
   ]
  },
  {
   "cell_type": "markdown",
   "id": "6e1c86b1-46d3-4972-a276-3e3da5951cd4",
   "metadata": {},
   "source": [
    "Best estimate of the slope is 2.100 $\\pm$ 0.050."
   ]
  }
 ],
 "metadata": {
  "kernelspec": {
   "display_name": "Python 3 (ipykernel)",
   "language": "python",
   "name": "python3"
  },
  "language_info": {
   "codemirror_mode": {
    "name": "ipython",
    "version": 3
   },
   "file_extension": ".py",
   "mimetype": "text/x-python",
   "name": "python",
   "nbconvert_exporter": "python",
   "pygments_lexer": "ipython3",
   "version": "3.10.5"
  },
  "widgets": {
   "application/vnd.jupyter.widget-state+json": {
    "state": {
     "00ba16dabdf744aca69180d6baca52eb": {
      "model_module": "ipysheet",
      "model_module_version": "~0.5.0",
      "model_name": "CellRangeModel",
      "state": {
       "_view_module": null,
       "_view_module_version": "",
       "row_end": 7,
       "row_start": 7,
       "type": "text",
       "value": "0.01"
      }
     },
     "03f95e70d7b44aba8d8e954e94da4b82": {
      "model_module": "ipysheet",
      "model_module_version": "~0.5.0",
      "model_name": "CellRangeModel",
      "state": {
       "_view_module": null,
       "_view_module_version": "",
       "column_end": 3,
       "column_start": 3,
       "row_end": 2,
       "row_start": 2,
       "type": "text",
       "value": "0.02"
      }
     },
     "07b9fc7f58da4320bc2ee99455bc8bba": {
      "model_module": "ipysheet",
      "model_module_version": "~0.5.0",
      "model_name": "CellRangeModel",
      "state": {
       "_view_module": null,
       "_view_module_version": "",
       "column_end": 0,
       "column_start": 0,
       "row_end": 2,
       "row_start": 2,
       "type": "text",
       "value": "0"
      }
     },
     "08789da49f744f3bacad86d48a4185a4": {
      "model_module": "@jupyter-widgets/controls",
      "model_module_version": "1.5.0",
      "model_name": "ButtonModel",
      "state": {
       "description": "Add Column",
       "layout": "IPY_MODEL_790ea8731a354c2b9f4a57ddc9b778e2",
       "style": "IPY_MODEL_180f75d8efec4a21a6aff1e48a52a479"
      }
     },
     "08d0f8d68ba34703b0366554a35e3523": {
      "model_module": "ipysheet",
      "model_module_version": "~0.5.0",
      "model_name": "CellRangeModel",
      "state": {
       "_view_module": null,
       "_view_module_version": "",
       "row_end": 4,
       "row_start": 4,
       "type": "text",
       "value": "0.01"
      }
     },
     "0acaf95f68fb4472b496b2a436377659": {
      "model_module": "ipysheet",
      "model_module_version": "~0.5.0",
      "model_name": "CellRangeModel",
      "state": {
       "_view_module": null,
       "_view_module_version": "",
       "column_end": 2,
       "column_start": 2,
       "row_end": 8,
       "row_start": 8,
       "type": "text",
       "value": "1.23"
      }
     },
     "0b8171eb6fd4471493123866f38c2e87": {
      "model_module": "ipysheet",
      "model_module_version": "~0.5.0",
      "model_name": "CellRangeModel",
      "state": {
       "_view_module": null,
       "_view_module_version": "",
       "row_end": 6,
       "row_start": 6,
       "type": "text",
       "value": "0.01"
      }
     },
     "0f7ff861373542c2a598a4bcbfd7c6c9": {
      "model_module": "ipysheet",
      "model_module_version": "~0.5.0",
      "model_name": "CellRangeModel",
      "state": {
       "_view_module": null,
       "_view_module_version": "",
       "type": "text",
       "value": "m"
      }
     },
     "11066372f7474dca89fb82a1b9a31a0a": {
      "model_module": "ipysheet",
      "model_module_version": "~0.5.0",
      "model_name": "CellRangeModel",
      "state": {
       "_view_module": null,
       "_view_module_version": "",
       "column_end": 2,
       "column_start": 2,
       "row_end": 7,
       "row_start": 7,
       "type": "text",
       "value": "1.05"
      }
     },
     "12867e34590c4f779cd60284a7c84335": {
      "model_module": "ipysheet",
      "model_module_version": "~0.5.0",
      "model_name": "CellRangeModel",
      "state": {
       "_view_module": null,
       "_view_module_version": "",
       "column_end": 3,
       "column_start": 3,
       "row_end": 6,
       "row_start": 6,
       "type": "text",
       "value": "0.03"
      }
     },
     "180f75d8efec4a21a6aff1e48a52a479": {
      "model_module": "@jupyter-widgets/controls",
      "model_module_version": "1.5.0",
      "model_name": "ButtonStyleModel",
      "state": {}
     },
     "1906c1942c564cdb94e7d6f955f2ceb5": {
      "model_module": "ipysheet",
      "model_module_version": "~0.5.0",
      "model_name": "CellRangeModel",
      "state": {
       "_view_module": null,
       "_view_module_version": "",
       "column_end": 2,
       "column_start": 2,
       "row_end": 0,
       "row_start": 0,
       "type": "text",
       "value": "F"
      }
     },
     "1a6722ac88d3429184fd02685317116c": {
      "model_module": "ipysheet",
      "model_module_version": "~0.5.0",
      "model_name": "CellRangeModel",
      "state": {
       "_view_module": null,
       "_view_module_version": "",
       "row_end": 5,
       "row_start": 5,
       "type": "text",
       "value": "0.01"
      }
     },
     "1bfd8cc0b6644ac99052b8f78b679fa8": {
      "model_module": "ipysheet",
      "model_module_version": "~0.5.0",
      "model_name": "CellRangeModel",
      "state": {
       "_view_module": null,
       "_view_module_version": "",
       "column_end": 0,
       "column_start": 0,
       "row_end": 5,
       "row_start": 5,
       "type": "text",
       "value": "0.29"
      }
     },
     "1c61231cce9848508107d72b4d78e398": {
      "model_module": "ipysheet",
      "model_module_version": "~0.5.0",
      "model_name": "CellRangeModel",
      "state": {
       "_view_module": null,
       "_view_module_version": "",
       "column_end": 3,
       "column_start": 3,
       "row_end": 5,
       "row_start": 5,
       "type": "text",
       "value": "0.03"
      }
     },
     "1d643cdf84634115878be463c014fefb": {
      "model_module": "@jupyter-widgets/controls",
      "model_module_version": "1.5.0",
      "model_name": "VBoxModel",
      "state": {
       "children": [
        "IPY_MODEL_8b9779406a5247efb345c49b1b4bab4c",
        "IPY_MODEL_4e57b58c015047cf942d0e53965ad971",
        "IPY_MODEL_f9125fcc649f43e3952747cfb7effec2"
       ],
       "layout": "IPY_MODEL_6a86cfab717049958270310307868622"
      }
     },
     "1ff77339f28340ae8e6947d35c89f95c": {
      "model_module": "ipysheet",
      "model_module_version": "~0.5.0",
      "model_name": "CellRangeModel",
      "state": {
       "_view_module": null,
       "_view_module_version": "",
       "column_end": 3,
       "column_start": 3,
       "row_end": 3,
       "row_start": 3,
       "type": "text",
       "value": "0.02"
      }
     },
     "243e0217648d4824bcee9951d2f5a994": {
      "model_module": "@jupyter-widgets/controls",
      "model_module_version": "1.5.0",
      "model_name": "ButtonStyleModel",
      "state": {}
     },
     "2a675fb2150b48a3a3c5c19fe54c8aa8": {
      "model_module": "ipysheet",
      "model_module_version": "~0.5.0",
      "model_name": "CellRangeModel",
      "state": {
       "_view_module": null,
       "_view_module_version": "",
       "row_end": 8,
       "row_start": 8,
       "type": "text",
       "value": "0.01"
      }
     },
     "37f75c5e459b4e49817b417878a265c7": {
      "model_module": "@jupyter-widgets/controls",
      "model_module_version": "1.5.0",
      "model_name": "ButtonModel",
      "state": {
       "description": "Generate Vectors",
       "layout": "IPY_MODEL_662aa4d7686d43d495f518c48dc70014",
       "style": "IPY_MODEL_da7e49438f1145bc826749231674601b"
      }
     },
     "3ebfe064a39248e5b6f484637007a4f3": {
      "model_module": "ipysheet",
      "model_module_version": "~0.5.0",
      "model_name": "CellRangeModel",
      "state": {
       "_view_module": null,
       "_view_module_version": "",
       "column_end": 2,
       "column_start": 2,
       "row_end": 6,
       "row_start": 6,
       "type": "text",
       "value": "0.81"
      }
     },
     "4264aa1c63634568b7689864036644d0": {
      "model_module": "@jupyter-widgets/base",
      "model_module_version": "1.2.0",
      "model_name": "LayoutModel",
      "state": {}
     },
     "4473ffbfec6349b683dfdc5627107102": {
      "model_module": "@jupyter-widgets/controls",
      "model_module_version": "1.5.0",
      "model_name": "ButtonStyleModel",
      "state": {}
     },
     "457d1dd7b20b4e068b0c86a937a05fdb": {
      "model_module": "ipysheet",
      "model_module_version": "~0.5.0",
      "model_name": "CellRangeModel",
      "state": {
       "_view_module": null,
       "_view_module_version": "",
       "column_end": 2,
       "column_start": 2,
       "row_end": 3,
       "row_start": 3,
       "type": "text",
       "value": "0.26"
      }
     },
     "47166d24009a40cab87f13573d6779da": {
      "model_module": "ipysheet",
      "model_module_version": "~0.5.0",
      "model_name": "CellRangeModel",
      "state": {
       "_view_module": null,
       "_view_module_version": "",
       "column_end": 2,
       "column_start": 2,
       "type": "text",
       "value": "N"
      }
     },
     "4b089bae3ba94dae857aafc3df963032": {
      "model_module": "@jupyter-widgets/base",
      "model_module_version": "1.2.0",
      "model_name": "LayoutModel",
      "state": {}
     },
     "4e57b58c015047cf942d0e53965ad971": {
      "model_module": "@jupyter-widgets/controls",
      "model_module_version": "1.5.0",
      "model_name": "HBoxModel",
      "state": {
       "children": [
        "IPY_MODEL_d396e6c4942f4fc9a29bcbe15fced697",
        "IPY_MODEL_f92e665c12084c32add6ccdd4735e520",
        "IPY_MODEL_c38b402b6f3c462b8709131544e2869d",
        "IPY_MODEL_08789da49f744f3bacad86d48a4185a4",
        "IPY_MODEL_37f75c5e459b4e49817b417878a265c7"
       ],
       "layout": "IPY_MODEL_fe42e7bf3c7e46ccb682dc92159a1f10"
      }
     },
     "662aa4d7686d43d495f518c48dc70014": {
      "model_module": "@jupyter-widgets/base",
      "model_module_version": "1.2.0",
      "model_name": "LayoutModel",
      "state": {}
     },
     "68fbea458bf3427b9f42a0aedfb054e8": {
      "model_module": "ipysheet",
      "model_module_version": "~0.5.0",
      "model_name": "CellRangeModel",
      "state": {
       "_view_module": null,
       "_view_module_version": "",
       "row_end": 0,
       "row_start": 0,
       "type": "text",
       "value": "u[dx]"
      }
     },
     "6a86cfab717049958270310307868622": {
      "model_module": "@jupyter-widgets/base",
      "model_module_version": "1.2.0",
      "model_name": "LayoutModel",
      "state": {}
     },
     "764ff14e553840e0a7221d7406eed56b": {
      "model_module": "ipysheet",
      "model_module_version": "~0.5.0",
      "model_name": "CellRangeModel",
      "state": {
       "_view_module": null,
       "_view_module_version": "",
       "column_end": 2,
       "column_start": 2,
       "row_end": 2,
       "row_start": 2,
       "type": "text",
       "value": "0"
      }
     },
     "77e01bda31064a49ba14995163e93020": {
      "model_module": "ipysheet",
      "model_module_version": "~0.5.0",
      "model_name": "CellRangeModel",
      "state": {
       "_view_module": null,
       "_view_module_version": "",
       "column_end": 3,
       "column_start": 3,
       "row_end": 4,
       "row_start": 4,
       "type": "text",
       "value": "0.03"
      }
     },
     "7891d094e5564f768319a7743af95cb2": {
      "model_module": "ipysheet",
      "model_module_version": "~0.5.0",
      "model_name": "CellRangeModel",
      "state": {
       "_view_module": null,
       "_view_module_version": "",
       "column_end": 3,
       "column_start": 3,
       "row_end": 8,
       "row_start": 8,
       "type": "text",
       "value": "0.04"
      }
     },
     "790ea8731a354c2b9f4a57ddc9b778e2": {
      "model_module": "@jupyter-widgets/base",
      "model_module_version": "1.2.0",
      "model_name": "LayoutModel",
      "state": {}
     },
     "8437b4d7ff884704832f824f2145cc0c": {
      "model_module": "ipysheet",
      "model_module_version": "~0.5.0",
      "model_name": "CellRangeModel",
      "state": {
       "_view_module": null,
       "_view_module_version": "",
       "column_end": 3,
       "column_start": 3,
       "type": "text",
       "value": "N"
      }
     },
     "89cf9120adf44be191f16ee739fccb0a": {
      "model_module": "ipysheet",
      "model_module_version": "~0.5.0",
      "model_name": "CellRangeModel",
      "state": {
       "_view_module": null,
       "_view_module_version": "",
       "column_end": 2,
       "column_start": 2,
       "row_end": 4,
       "row_start": 4,
       "type": "text",
       "value": "0.43"
      }
     },
     "8b9779406a5247efb345c49b1b4bab4c": {
      "model_module": "ipysheet",
      "model_module_version": "~0.5.0",
      "model_name": "SheetModel",
      "state": {
       "cells": [
        "IPY_MODEL_b62274eb9d5a4e56b502a09f3b57cbe4",
        "IPY_MODEL_68fbea458bf3427b9f42a0aedfb054e8",
        "IPY_MODEL_1906c1942c564cdb94e7d6f955f2ceb5",
        "IPY_MODEL_9a629e6100a944f7bacfe34329c09b43",
        "IPY_MODEL_f9fd1063b1b64ee68087c87336ba1580",
        "IPY_MODEL_0f7ff861373542c2a598a4bcbfd7c6c9",
        "IPY_MODEL_47166d24009a40cab87f13573d6779da",
        "IPY_MODEL_8437b4d7ff884704832f824f2145cc0c",
        "IPY_MODEL_07b9fc7f58da4320bc2ee99455bc8bba",
        "IPY_MODEL_b5cdc55e523441c899c98f30ae763ea3",
        "IPY_MODEL_764ff14e553840e0a7221d7406eed56b",
        "IPY_MODEL_03f95e70d7b44aba8d8e954e94da4b82",
        "IPY_MODEL_cd2edb4c7e854a9c8f2babaed3d878d1",
        "IPY_MODEL_b0f5ad33c8754e209041b9a1d1e34a3d",
        "IPY_MODEL_457d1dd7b20b4e068b0c86a937a05fdb",
        "IPY_MODEL_1ff77339f28340ae8e6947d35c89f95c",
        "IPY_MODEL_b1b7b2ada4e2436697956fd5746f8ae2",
        "IPY_MODEL_08d0f8d68ba34703b0366554a35e3523",
        "IPY_MODEL_89cf9120adf44be191f16ee739fccb0a",
        "IPY_MODEL_77e01bda31064a49ba14995163e93020",
        "IPY_MODEL_1bfd8cc0b6644ac99052b8f78b679fa8",
        "IPY_MODEL_1a6722ac88d3429184fd02685317116c",
        "IPY_MODEL_cb65fe671146414a8c49affeb7e6d65b",
        "IPY_MODEL_1c61231cce9848508107d72b4d78e398",
        "IPY_MODEL_a9b0244e102f403c865f75b53153afd3",
        "IPY_MODEL_0b8171eb6fd4471493123866f38c2e87",
        "IPY_MODEL_3ebfe064a39248e5b6f484637007a4f3",
        "IPY_MODEL_12867e34590c4f779cd60284a7c84335",
        "IPY_MODEL_a0d35de2af0b4842bdc98cb6493ba8bc",
        "IPY_MODEL_00ba16dabdf744aca69180d6baca52eb",
        "IPY_MODEL_11066372f7474dca89fb82a1b9a31a0a",
        "IPY_MODEL_cf2a2ce0d54a45ac9984dc54d4510856",
        "IPY_MODEL_c53aed571e4649e69f419bedcd14e679",
        "IPY_MODEL_2a675fb2150b48a3a3c5c19fe54c8aa8",
        "IPY_MODEL_0acaf95f68fb4472b496b2a436377659",
        "IPY_MODEL_7891d094e5564f768319a7743af95cb2"
       ],
       "column_headers": false,
       "layout": "IPY_MODEL_8de3751190294ee2a149619cfcd8a99e",
       "row_headers": [
        "Variable:",
        "Units:",
        "0",
        "1",
        "2",
        "3",
        "4",
        "5",
        "6"
       ],
       "rows": 9
      }
     },
     "8de3751190294ee2a149619cfcd8a99e": {
      "model_module": "@jupyter-widgets/base",
      "model_module_version": "1.2.0",
      "model_name": "LayoutModel",
      "state": {
       "height": "auto",
       "width": "auto"
      }
     },
     "9a629e6100a944f7bacfe34329c09b43": {
      "model_module": "ipysheet",
      "model_module_version": "~0.5.0",
      "model_name": "CellRangeModel",
      "state": {
       "_view_module": null,
       "_view_module_version": "",
       "column_end": 3,
       "column_start": 3,
       "row_end": 0,
       "row_start": 0,
       "type": "text",
       "value": "u[F]"
      }
     },
     "a007eb297f01450a88561dcb63642664": {
      "model_module": "@jupyter-widgets/base",
      "model_module_version": "1.2.0",
      "model_name": "LayoutModel",
      "state": {}
     },
     "a0d35de2af0b4842bdc98cb6493ba8bc": {
      "model_module": "ipysheet",
      "model_module_version": "~0.5.0",
      "model_name": "CellRangeModel",
      "state": {
       "_view_module": null,
       "_view_module_version": "",
       "column_end": 0,
       "column_start": 0,
       "row_end": 7,
       "row_start": 7,
       "type": "text",
       "value": "0.48"
      }
     },
     "a9b0244e102f403c865f75b53153afd3": {
      "model_module": "ipysheet",
      "model_module_version": "~0.5.0",
      "model_name": "CellRangeModel",
      "state": {
       "_view_module": null,
       "_view_module_version": "",
       "column_end": 0,
       "column_start": 0,
       "row_end": 6,
       "row_start": 6,
       "type": "text",
       "value": "0.40"
      }
     },
     "b0f5ad33c8754e209041b9a1d1e34a3d": {
      "model_module": "ipysheet",
      "model_module_version": "~0.5.0",
      "model_name": "CellRangeModel",
      "state": {
       "_view_module": null,
       "_view_module_version": "",
       "row_end": 3,
       "row_start": 3,
       "type": "text",
       "value": "0.01"
      }
     },
     "b1b7b2ada4e2436697956fd5746f8ae2": {
      "model_module": "ipysheet",
      "model_module_version": "~0.5.0",
      "model_name": "CellRangeModel",
      "state": {
       "_view_module": null,
       "_view_module_version": "",
       "column_end": 0,
       "column_start": 0,
       "row_end": 4,
       "row_start": 4,
       "type": "text",
       "value": "0.21"
      }
     },
     "b5cdc55e523441c899c98f30ae763ea3": {
      "model_module": "ipysheet",
      "model_module_version": "~0.5.0",
      "model_name": "CellRangeModel",
      "state": {
       "_view_module": null,
       "_view_module_version": "",
       "row_end": 2,
       "row_start": 2,
       "type": "text",
       "value": "0.01"
      }
     },
     "b62274eb9d5a4e56b502a09f3b57cbe4": {
      "model_module": "ipysheet",
      "model_module_version": "~0.5.0",
      "model_name": "CellRangeModel",
      "state": {
       "_view_module": null,
       "_view_module_version": "",
       "column_end": 0,
       "column_start": 0,
       "row_end": 0,
       "row_start": 0,
       "type": "text",
       "value": "dx"
      }
     },
     "c38b402b6f3c462b8709131544e2869d": {
      "model_module": "@jupyter-widgets/controls",
      "model_module_version": "1.5.0",
      "model_name": "ButtonModel",
      "state": {
       "description": "Add Row",
       "layout": "IPY_MODEL_a007eb297f01450a88561dcb63642664",
       "style": "IPY_MODEL_4473ffbfec6349b683dfdc5627107102"
      }
     },
     "c53aed571e4649e69f419bedcd14e679": {
      "model_module": "ipysheet",
      "model_module_version": "~0.5.0",
      "model_name": "CellRangeModel",
      "state": {
       "_view_module": null,
       "_view_module_version": "",
       "column_end": 0,
       "column_start": 0,
       "row_end": 8,
       "row_start": 8,
       "type": "text",
       "value": "0.60"
      }
     },
     "cb65fe671146414a8c49affeb7e6d65b": {
      "model_module": "ipysheet",
      "model_module_version": "~0.5.0",
      "model_name": "CellRangeModel",
      "state": {
       "_view_module": null,
       "_view_module_version": "",
       "column_end": 2,
       "column_start": 2,
       "row_end": 5,
       "row_start": 5,
       "type": "text",
       "value": "0.63"
      }
     },
     "cd2edb4c7e854a9c8f2babaed3d878d1": {
      "model_module": "ipysheet",
      "model_module_version": "~0.5.0",
      "model_name": "CellRangeModel",
      "state": {
       "_view_module": null,
       "_view_module_version": "",
       "column_end": 0,
       "column_start": 0,
       "row_end": 3,
       "row_start": 3,
       "type": "text",
       "value": "0.12"
      }
     },
     "cf2a2ce0d54a45ac9984dc54d4510856": {
      "model_module": "ipysheet",
      "model_module_version": "~0.5.0",
      "model_name": "CellRangeModel",
      "state": {
       "_view_module": null,
       "_view_module_version": "",
       "column_end": 3,
       "column_start": 3,
       "row_end": 7,
       "row_start": 7,
       "type": "text",
       "value": "0.04"
      }
     },
     "d396e6c4942f4fc9a29bcbe15fced697": {
      "model_module": "@jupyter-widgets/controls",
      "model_module_version": "1.5.0",
      "model_name": "ButtonModel",
      "state": {
       "description": "Undo",
       "layout": "IPY_MODEL_4264aa1c63634568b7689864036644d0",
       "style": "IPY_MODEL_243e0217648d4824bcee9951d2f5a994"
      }
     },
     "da7e49438f1145bc826749231674601b": {
      "model_module": "@jupyter-widgets/controls",
      "model_module_version": "1.5.0",
      "model_name": "ButtonStyleModel",
      "state": {}
     },
     "de0a3daf121e4e85bef46834dc26296c": {
      "model_module": "@jupyter-widgets/base",
      "model_module_version": "1.2.0",
      "model_name": "LayoutModel",
      "state": {}
     },
     "f9125fcc649f43e3952747cfb7effec2": {
      "model_module": "@jupyter-widgets/output",
      "model_module_version": "1.0.0",
      "model_name": "OutputModel",
      "state": {
       "layout": "IPY_MODEL_de0a3daf121e4e85bef46834dc26296c",
       "outputs": [
        {
         "data": {
          "text/html": "<div>\n<style scoped>\n    .dataframe tbody tr th:only-of-type {\n        vertical-align: middle;\n    }\n\n    .dataframe tbody tr th {\n        vertical-align: top;\n    }\n\n    .dataframe thead th {\n        text-align: right;\n    }\n</style>\n<table border=\"1\" class=\"dataframe\">\n  <thead>\n    <tr style=\"text-align: right;\">\n      <th></th>\n      <th>dx</th>\n      <th>u[dx]</th>\n      <th>F</th>\n      <th>u[F]</th>\n    </tr>\n  </thead>\n  <tbody>\n    <tr>\n      <th>Units</th>\n      <td>m</td>\n      <td>m</td>\n      <td>N</td>\n      <td>N</td>\n    </tr>\n    <tr>\n      <th>0</th>\n      <td>0</td>\n      <td>0.01</td>\n      <td>0</td>\n      <td>0.02</td>\n    </tr>\n    <tr>\n      <th>1</th>\n      <td>0.12</td>\n      <td>0.01</td>\n      <td>0.26</td>\n      <td>0.02</td>\n    </tr>\n    <tr>\n      <th>2</th>\n      <td>0.21</td>\n      <td>0.01</td>\n      <td>0.43</td>\n      <td>0.03</td>\n    </tr>\n    <tr>\n      <th>3</th>\n      <td>0.29</td>\n      <td>0.01</td>\n      <td>0.63</td>\n      <td>0.03</td>\n    </tr>\n    <tr>\n      <th>4</th>\n      <td>0.40</td>\n      <td>0.01</td>\n      <td>0.81</td>\n      <td>0.03</td>\n    </tr>\n    <tr>\n      <th>5</th>\n      <td>0.48</td>\n      <td>0.01</td>\n      <td>1.05</td>\n      <td>0.04</td>\n    </tr>\n    <tr>\n      <th>6</th>\n      <td>0.60</td>\n      <td>0.01</td>\n      <td>1.23</td>\n      <td>0.04</td>\n    </tr>\n  </tbody>\n</table>\n</div>",
          "text/plain": "         dx u[dx]     F  u[F]\nUnits     m     m     N     N\n0         0  0.01     0  0.02\n1      0.12  0.01  0.26  0.02\n2      0.21  0.01  0.43  0.03\n3      0.29  0.01  0.63  0.03\n4      0.40  0.01  0.81  0.03\n5      0.48  0.01  1.05  0.04\n6      0.60  0.01  1.23  0.04"
         },
         "metadata": {},
         "output_type": "display_data"
        }
       ]
      }
     },
     "f92e665c12084c32add6ccdd4735e520": {
      "model_module": "@jupyter-widgets/controls",
      "model_module_version": "1.5.0",
      "model_name": "ButtonModel",
      "state": {
       "description": "Redo",
       "layout": "IPY_MODEL_4b089bae3ba94dae857aafc3df963032",
       "style": "IPY_MODEL_fea270ed67034950b25388877e96be4f"
      }
     },
     "f9fd1063b1b64ee68087c87336ba1580": {
      "model_module": "ipysheet",
      "model_module_version": "~0.5.0",
      "model_name": "CellRangeModel",
      "state": {
       "_view_module": null,
       "_view_module_version": "",
       "column_end": 0,
       "column_start": 0,
       "type": "text",
       "value": "m"
      }
     },
     "fe42e7bf3c7e46ccb682dc92159a1f10": {
      "model_module": "@jupyter-widgets/base",
      "model_module_version": "1.2.0",
      "model_name": "LayoutModel",
      "state": {}
     },
     "fea270ed67034950b25388877e96be4f": {
      "model_module": "@jupyter-widgets/controls",
      "model_module_version": "1.5.0",
      "model_name": "ButtonStyleModel",
      "state": {}
     }
    },
    "version_major": 2,
    "version_minor": 0
   }
  }
 },
 "nbformat": 4,
 "nbformat_minor": 5
}
